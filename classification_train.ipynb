{
 "cells": [
  {
   "cell_type": "code",
   "execution_count": null,
   "metadata": {},
   "outputs": [],
   "source": [
    "# -*-   Coding with utf-8   -*- #\n",
    "# -*- Developed by Harryjin -*- #"
   ]
  },
  {
   "cell_type": "code",
   "execution_count": 1,
   "metadata": {},
   "outputs": [
    {
     "name": "stderr",
     "output_type": "stream",
     "text": [
      "C:\\Users\\luke0\\AppData\\Local\\Programs\\Python\\Python310\\lib\\site-packages\\tqdm\\auto.py:21: TqdmWarning: IProgress not found. Please update jupyter and ipywidgets. See https://ipywidgets.readthedocs.io/en/stable/user_install.html\n",
      "  from .autonotebook import tqdm as notebook_tqdm\n"
     ]
    }
   ],
   "source": [
    "import torch.optim as optim\n",
    "import torch\n",
    "import torch.nn as nn\n",
    "import torch.nn.parallel\n",
    "import torch.optim\n",
    "import torch.utils.data\n",
    "import torch.utils.data.distributed\n",
    "import torchvision.transforms as transforms\n",
    "import torchvision.datasets as datasets\n",
    "import torchvision.models\n",
    "from torch.autograd import Variable\n",
    "import pandas as pd\n",
    "from net import *\n",
    "from tqdm import tqdm"
   ]
  },
  {
   "cell_type": "code",
   "execution_count": 2,
   "metadata": {},
   "outputs": [
    {
     "name": "stdout",
     "output_type": "stream",
     "text": [
      "cuda\n"
     ]
    }
   ],
   "source": [
    "# Basic Traning Settings\n",
    "BATCH_SIZE = 64\n",
    "EPOCHS = 30\n",
    "DEVICE = torch.device('cuda' if torch.cuda.is_available() else 'cpu')\n",
    "print(DEVICE)"
   ]
  },
  {
   "cell_type": "code",
   "execution_count": 3,
   "metadata": {},
   "outputs": [],
   "source": [
    "# Data transformation\n",
    "transform = transforms.Compose([      \n",
    "    transforms.Resize((128, 128)),\n",
    "    transforms.ToTensor(),\n",
    "    transforms.Normalize([0.5, 0.5, 0.5], [0.5, 0.5, 0.5])\n",
    "\n",
    "])\n",
    "transform_test = transforms.Compose([\n",
    "    transforms.Resize((128, 128)),\n",
    "    transforms.ToTensor(),\n",
    "    transforms.Normalize([0.5, 0.5, 0.5], [0.5, 0.5, 0.5])\n",
    "])"
   ]
  },
  {
   "cell_type": "code",
   "execution_count": 4,
   "metadata": {},
   "outputs": [
    {
     "name": "stdout",
     "output_type": "stream",
     "text": [
      "[('./dataset/1/train\\\\no\\\\004505-20200415@095140-R1-S.jpg', 0), ('./dataset/1/train\\\\no\\\\004508-20200415@101356-L2-S.jpg', 0), ('./dataset/1/train\\\\no\\\\004508-20200415@101356-R1-S.jpg', 0), ('./dataset/1/train\\\\no\\\\004511-20200415@113206-L2-S.jpg', 0), ('./dataset/1/train\\\\no\\\\004511-20200415@113206-R1-S.jpg', 0), ('./dataset/1/train\\\\no\\\\004516-20200415@135154-L2-S.jpg', 0), ('./dataset/1/train\\\\no\\\\004516-20200415@135154-R1-S.jpg', 0), ('./dataset/1/train\\\\no\\\\004518-20200415@143356-R1-S.jpg', 0), ('./dataset/1/train\\\\no\\\\004519-20200415@150647-R1-S.jpg', 0), ('./dataset/1/train\\\\no\\\\004527-20200416@111117-R1-S.jpg', 0), ('./dataset/1/train\\\\no\\\\004530-20200416@124129-L2-S.jpg', 0), ('./dataset/1/train\\\\no\\\\004530-20200416@124129-R1-S.jpg', 0), ('./dataset/1/train\\\\no\\\\004542-20200417@110630-L2-S.jpg', 0), ('./dataset/1/train\\\\no\\\\004548-20200417@145257-L2-S.jpg', 0), ('./dataset/1/train\\\\no\\\\004553-20200417@160716-L2-S.jpg', 0), ('./dataset/1/train\\\\no\\\\004561-20200418@092531-L3-S.jpg', 0), ('./dataset/1/train\\\\no\\\\004562-20200418@094543-L4-S.jpg', 0), ('./dataset/1/train\\\\no\\\\004563-20200418@101049-R1-S.jpg', 0), ('./dataset/1/train\\\\no\\\\004572-20200418@114820-L3-S.jpg', 0), ('./dataset/1/train\\\\no\\\\004575-20200418@122422-L2-S.jpg', 0), ('./dataset/1/train\\\\no\\\\004575-20200418@122422-R1-S.jpg', 0), ('./dataset/1/train\\\\no\\\\004575-20200418@122422-R3-S.jpg', 0), ('./dataset/1/train\\\\no\\\\004578-20200418@131426-L2-S.jpg', 0), ('./dataset/1/train\\\\no\\\\004578-20200418@131426-R1-S.jpg', 0), ('./dataset/1/train\\\\no\\\\004582-20200418@135708-L2-S.jpg', 0), ('./dataset/1/train\\\\no\\\\004584-20200418@150052-R1-S.jpg', 0), ('./dataset/1/train\\\\no\\\\004601-20200419@105834-L4-S.jpg', 0), ('./dataset/1/train\\\\no\\\\004613-20200419@153232-L2-S.jpg', 0), ('./dataset/1/train\\\\no\\\\004628-20200420@111415-R1-S.jpg', 0), ('./dataset/1/train\\\\no\\\\004632-20200420@121920-L3-S.jpg', 0), ('./dataset/1/train\\\\no\\\\004632-20200420@121920-R1-S.jpg', 0), ('./dataset/1/train\\\\no\\\\004632-20200420@121920-R2-S.jpg', 0), ('./dataset/1/train\\\\no\\\\004636-20200420@125440-R1-S.jpg', 0), ('./dataset/1/train\\\\no\\\\004645-20200421@104728-R1-S.jpg', 0), ('./dataset/1/train\\\\no\\\\004648-20200421@112646-R1-S.jpg', 0), ('./dataset/1/train\\\\no\\\\004648-20200421@112646-R3-S.jpg', 0), ('./dataset/1/train\\\\no\\\\004649-20200602@102852-R1-S.jpg', 0), ('./dataset/1/train\\\\no\\\\004692-20200423@125836-R1-S.jpg', 0), ('./dataset/1/train\\\\no\\\\004693-20200423@142052-L2-S.jpg', 0), ('./dataset/1/train\\\\no\\\\004693-20200423@142052-R1-S.jpg', 0), ('./dataset/1/train\\\\no\\\\004696-20200423@160633-R1-S.jpg', 0), ('./dataset/1/train\\\\no\\\\004710-20200425@101005-R1-S.jpg', 0), ('./dataset/1/train\\\\no\\\\004710-20200921@110712-R1-S.jpg', 0), ('./dataset/1/train\\\\no\\\\004723-20200425@124214-L3-S.jpg', 0), ('./dataset/1/train\\\\no\\\\004725-20200425@125744-L2-S.jpg', 0), ('./dataset/1/train\\\\no\\\\004725-20200425@125744-R1-S.jpg', 0), ('./dataset/1/train\\\\no\\\\004730-20200425@142505-R2-S.jpg', 0), ('./dataset/1/train\\\\no\\\\004736-20200425@150658-L2-S.jpg', 0), ('./dataset/1/train\\\\no\\\\004736-20200425@150658-R1-S.jpg', 0), ('./dataset/1/train\\\\no\\\\004741-20200425@163655-R1-S.jpg', 0), ('./dataset/1/train\\\\no\\\\004742-20200425@163936-L3-S.jpg', 0), ('./dataset/1/train\\\\no\\\\004751-20200426@110217-R1-S.jpg', 0), ('./dataset/1/train\\\\no\\\\004754-20200426@135625-R1-S.jpg', 0), ('./dataset/1/train\\\\no\\\\004754-20200426@135625-R6-S.jpg', 0), ('./dataset/1/train\\\\no\\\\004785-20200427@123222-L2-S.jpg', 0), ('./dataset/1/train\\\\no\\\\004785-20200427@123222-R1-S.jpg', 0), ('./dataset/1/train\\\\no\\\\004790-20200427@150125-R1-S.jpg', 0), ('./dataset/1/train\\\\no\\\\005857-20200612@120805-L2-S.jpg', 0), ('./dataset/1/train\\\\no\\\\005868-20200613@101656-L2-S.jpg', 0), ('./dataset/1/train\\\\no\\\\007419-20200723@122747-L2-S.jpg', 0), ('./dataset/1/train\\\\no\\\\007424-20200723@130004-L2-S.jpg', 0), ('./dataset/1/train\\\\no\\\\007425-20200723@130334-L2-S.jpg', 0), ('./dataset/1/train\\\\no\\\\007427-20200723@131034-L3-S.jpg', 0), ('./dataset/1/train\\\\no\\\\007427-20200723@131034-R1-S.jpg', 0), ('./dataset/1/train\\\\no\\\\007428-20200723@131806-L2-S.jpg', 0), ('./dataset/1/train\\\\no\\\\007428-20200723@131806-R1-S.jpg', 0), ('./dataset/1/train\\\\no\\\\007431-20200723@133343-L2-S.jpg', 0), ('./dataset/1/train\\\\no\\\\007432-20200723@134247-L4-S.jpg', 0), ('./dataset/1/train\\\\no\\\\010317-20201020@163136-L4-S.jpg', 0), ('./dataset/1/train\\\\no\\\\010329-20201021@140032-L2-S.jpg', 0), ('./dataset/1/train\\\\no\\\\010329-20201021@140032-L3-S.jpg', 0), ('./dataset/1/train\\\\no\\\\010337-20201022@085740-L3-S.jpg', 0), ('./dataset/1/train\\\\no\\\\010337-20201022@085740-R1-S.jpg', 0), ('./dataset/1/train\\\\no\\\\010337-20201022@085740-R2-S.jpg', 0), ('./dataset/1/train\\\\no\\\\010339-20201022@094858-L2-S.jpg', 0), ('./dataset/1/train\\\\no\\\\010339-20201029@084305-L5-S.jpg', 0), ('./dataset/1/train\\\\no\\\\010340-20201022@095405-L3-S.jpg', 0), ('./dataset/1/train\\\\no\\\\010340-20201022@095405-L4-S.jpg', 0), ('./dataset/1/train\\\\no\\\\010341-20201022@101322-L3-S.jpg', 0), ('./dataset/1/train\\\\no\\\\010341-20201022@101322-R1-S.jpg', 0), ('./dataset/1/train\\\\no\\\\010341-20201022@101322-R2-S.jpg', 0), ('./dataset/1/train\\\\no\\\\010341-20201022@114743-L2-S.jpg', 0), ('./dataset/1/train\\\\no\\\\010341-20201022@114743-R1-S.jpg', 0), ('./dataset/1/train\\\\no\\\\010342-20201022@101657-L2-S.jpg', 0), ('./dataset/1/train\\\\no\\\\010345-20201022@121322-L3-S.jpg', 0), ('./dataset/1/train\\\\no\\\\010347-20201022@135638-L2-S.jpg', 0), ('./dataset/1/train\\\\no\\\\010347-20201022@135638-R1-S.jpg', 0), ('./dataset/1/train\\\\no\\\\010349-20201022@141745-R1-S.jpg', 0), ('./dataset/1/train\\\\no\\\\010355-20201022@154900-L2-S.jpg', 0), ('./dataset/1/train\\\\no\\\\010355-20201022@154900-L3-S.jpg', 0), ('./dataset/1/train\\\\no\\\\010357-20201022@165917-L2-S.jpg', 0), ('./dataset/1/train\\\\no\\\\010357-20201022@165917-R1-S.jpg', 0), ('./dataset/1/train\\\\no\\\\010361-20201023@092922-L2-S.jpg', 0), ('./dataset/1/train\\\\no\\\\010361-20201023@092922-R1-S.jpg', 0), ('./dataset/1/train\\\\no\\\\010367-20201023@112618-L2-S.jpg', 0), ('./dataset/1/train\\\\no\\\\010367-20201023@112618-L3-S.jpg', 0), ('./dataset/1/train\\\\no\\\\010371-20201023@155714-L3-S.jpg', 0), ('./dataset/1/train\\\\no\\\\010371-20201023@155714-R1-S.jpg', 0), ('./dataset/1/train\\\\no\\\\010373-20201023@161525-L2-S.jpg', 0), ('./dataset/1/train\\\\no\\\\010377-20201024@095542-L2-S.jpg', 0), ('./dataset/1/train\\\\no\\\\010378-20201024@101731-L2-S.jpg', 0), ('./dataset/1/train\\\\no\\\\010378-20201024@101731-R1-S.jpg', 0), ('./dataset/1/train\\\\no\\\\010381-20201024@110014-L3-S.jpg', 0), ('./dataset/1/train\\\\no\\\\010381-20201024@110014-R1-S.jpg', 0), ('./dataset/1/train\\\\no\\\\010382-20201024@110407-L2-S.jpg', 0), ('./dataset/1/train\\\\no\\\\010383-20201024@112043-L2-S.jpg', 0), ('./dataset/1/train\\\\no\\\\010386-20201024@123336-R4-S.jpg', 0), ('./dataset/1/train\\\\no\\\\010389-20201024@134519-L2-S.jpg', 0), ('./dataset/1/train\\\\no\\\\010390-20201024@135044-L2-S.jpg', 0), ('./dataset/1/train\\\\no\\\\010390-20201024@135044-R1-S.jpg', 0), ('./dataset/1/train\\\\no\\\\010394-20201024@144602-L2-S.jpg', 0), ('./dataset/1/train\\\\no\\\\010394-20201024@145531-L4-S.jpg', 0), ('./dataset/1/train\\\\no\\\\010396-20201024@152703-L3-S.jpg', 0), ('./dataset/1/train\\\\no\\\\010398-20201024@170330-L3-S.jpg', 0), ('./dataset/1/train\\\\no\\\\010400-20201025@093641-L2-S.jpg', 0), ('./dataset/1/train\\\\no\\\\010402-20201025@100954-L3-S.jpg', 0), ('./dataset/1/train\\\\no\\\\010402-20201025@100954-R1-S.jpg', 0), ('./dataset/1/train\\\\no\\\\010402-20201025@100954-R2-S.jpg', 0), ('./dataset/1/train\\\\no\\\\010407-20201025@114215-L2-S.jpg', 0), ('./dataset/1/train\\\\no\\\\010407-20201025@114215-L3-S.jpg', 0), ('./dataset/1/train\\\\no\\\\010411-20201025@115824-R1-S.jpg', 0), ('./dataset/1/train\\\\no\\\\010412-20201025@121329-L2-S.jpg', 0), ('./dataset/1/train\\\\no\\\\010412-20201025@121329-R1-S.jpg', 0), ('./dataset/1/train\\\\no\\\\010415-20201025@133346-L4-S.jpg', 0), ('./dataset/1/train\\\\no\\\\010415-20201025@133346-R1-S.jpg', 0), ('./dataset/1/train\\\\no\\\\010415-20201025@133346-R2-S.jpg', 0), ('./dataset/1/train\\\\no\\\\010416-20201025@134317-L2-S.jpg', 0), ('./dataset/1/train\\\\no\\\\010430-20201025@161910-L2-S.jpg', 0), ('./dataset/1/train\\\\no\\\\010437-20201026@093545-L2-S.jpg', 0), ('./dataset/1/train\\\\no\\\\010438-20201026@095617-L1-S.jpg', 0), ('./dataset/1/train\\\\no\\\\010438-20201026@095617-L3-S.jpg', 0), ('./dataset/1/train\\\\no\\\\010438-20201026@095617-R2-S.jpg', 0), ('./dataset/1/train\\\\no\\\\010443-20201026@122335-L2-S.jpg', 0), ('./dataset/1/train\\\\no\\\\010447-20201026@131155-L2-S.jpg', 0), ('./dataset/1/train\\\\no\\\\010451-20201026@145844-L3-S.jpg', 0), ('./dataset/1/train\\\\no\\\\010452-20201026@150627-L2-S.jpg', 0), ('./dataset/1/train\\\\no\\\\010453-20201026@151632-L2-S.jpg', 0), ('./dataset/1/train\\\\no\\\\010453-20201026@151632-R1-S.jpg', 0), ('./dataset/1/train\\\\no\\\\010472-20201027@130830-L2-S.jpg', 0), ('./dataset/1/train\\\\no\\\\010475-20201027@143357-L2-S.jpg', 0), ('./dataset/1/train\\\\no\\\\010477-20201027@144900-L2-S.jpg', 0), ('./dataset/1/train\\\\no\\\\010477-20201027@144900-L3-S.jpg', 0), ('./dataset/1/train\\\\no\\\\010477-20201027@144900-R1-S.jpg', 0), ('./dataset/1/train\\\\no\\\\010482-20201028@094740-L3-S.jpg', 0), ('./dataset/1/train\\\\no\\\\010482-20201028@094740-L4-S.jpg', 0), ('./dataset/1/train\\\\no\\\\010484-20201028@101536-R2-S.jpg', 0), ('./dataset/1/train\\\\no\\\\010488-20201028@113757-L3-S.jpg', 0), ('./dataset/1/train\\\\no\\\\010497-20201028@134918-L3-S.jpg', 0), ('./dataset/1/train\\\\no\\\\010497-20201028@134918-L4-S.jpg', 0), ('./dataset/1/train\\\\no\\\\010517-20201029@144339-L1-S.jpg', 0), ('./dataset/1/train\\\\no\\\\010530-20201030@144603-L2-S.jpg', 0), ('./dataset/1/train\\\\no\\\\010530-20201030@144603-R1-S.jpg', 0), ('./dataset/1/train\\\\no\\\\010536-20201031@101059-L3-S.jpg', 0), ('./dataset/1/train\\\\no\\\\010537-20201031@101644-L4-S.jpg', 0), ('./dataset/1/train\\\\no\\\\010540-20201031@104009-L3-S.jpg', 0), ('./dataset/1/train\\\\no\\\\010540-20201031@104009-R1-S.jpg', 0), ('./dataset/1/train\\\\no\\\\010540-20201031@104009-R2-S.jpg', 0), ('./dataset/1/train\\\\no\\\\010541-20201031@104340-R1-S.jpg', 0), ('./dataset/1/train\\\\no\\\\010542-20201031@105804-L2-S.jpg', 0), ('./dataset/1/train\\\\no\\\\010546-20201031@115640-L2-S.jpg', 0), ('./dataset/1/train\\\\no\\\\010546-20201031@115640-L3-S.jpg', 0), ('./dataset/1/train\\\\no\\\\010546-20201031@115640-R1-S.jpg', 0), ('./dataset/1/train\\\\no\\\\010548-20201031@122919-L3-S.jpg', 0), ('./dataset/1/train\\\\no\\\\010550-20201031@152840-L4-S.jpg', 0), ('./dataset/1/train\\\\no\\\\010550-20201031@152840-R1-S.jpg', 0), ('./dataset/1/train\\\\no\\\\010550-20201031@152840-R3-S.jpg', 0), ('./dataset/1/train\\\\no\\\\010554-20201031@165235-L2-S.jpg', 0), ('./dataset/1/train\\\\no\\\\010560-20201101@093521-L2-S.jpg', 0), ('./dataset/1/train\\\\no\\\\010560-20201101@093521-R3-S.jpg', 0), ('./dataset/1/train\\\\no\\\\010561-20210204@130944-L4-S.jpg', 0), ('./dataset/1/train\\\\no\\\\010561-20210204@130944-R1-S.jpg', 0), ('./dataset/1/train\\\\no\\\\010575-20201101@160001-L2-S.jpg', 0), ('./dataset/1/train\\\\no\\\\010575-20201101@160001-R1-S.jpg', 0), ('./dataset/1/train\\\\no\\\\010581-20201101@164426-L2-S.jpg', 0), ('./dataset/1/train\\\\no\\\\010582-20201101@172402-L3-S.jpg', 0), ('./dataset/1/train\\\\no\\\\010583-20201101@173901-L2-S.jpg', 0), ('./dataset/1/train\\\\no\\\\010583-20201101@173901-R1-S.jpg', 0), ('./dataset/1/train\\\\no\\\\010592-20201102@104723-L4-S.jpg', 0), ('./dataset/1/train\\\\no\\\\010593-20201224@093059-R1-S.jpg', 0), ('./dataset/1/train\\\\no\\\\010600-20201102@114832-L3-S.jpg', 0), ('./dataset/1/train\\\\no\\\\010600-20201102@114832-R1-S.jpg', 0), ('./dataset/1/train\\\\no\\\\010601-20201102@123028-L2-S.jpg', 0), ('./dataset/1/train\\\\no\\\\010601-20201102@123028-R1-S.jpg', 0), ('./dataset/1/train\\\\no\\\\010602-20201102@123403-L2-S.jpg', 0), ('./dataset/1/train\\\\no\\\\010602-20201102@123403-R1-S.jpg', 0), ('./dataset/1/train\\\\no\\\\010605-20201102@145226-L2-S.jpg', 0), ('./dataset/1/train\\\\no\\\\010609-20201102@171919-L2-S.jpg', 0), ('./dataset/1/train\\\\no\\\\010609-20201102@171919-R1-S.jpg', 0), ('./dataset/1/train\\\\no\\\\010611-20201103@091637-L5-S.jpg', 0), ('./dataset/1/train\\\\no\\\\010611-20201103@091637-R3-S.jpg', 0), ('./dataset/1/train\\\\no\\\\010617-20201103@111815-L6-S.jpg', 0), ('./dataset/1/train\\\\no\\\\010617-20201103@111815-L7-S.jpg', 0), ('./dataset/1/train\\\\no\\\\010621-20201103@125849-L2-S.jpg', 0), ('./dataset/1/train\\\\no\\\\010621-20201103@125849-R1-S.jpg', 0), ('./dataset/1/train\\\\no\\\\010621-20201103@125849-R5-S.jpg', 0), ('./dataset/1/train\\\\no\\\\010625-20201103@160226-R1-S.jpg', 0), ('./dataset/1/train\\\\no\\\\010633-20201104@105815-L2-S.jpg', 0), ('./dataset/1/train\\\\no\\\\010635-20201104@110731-L2-S.jpg', 0), ('./dataset/1/train\\\\no\\\\010636-20201104@110936-L2-S.jpg', 0), ('./dataset/1/train\\\\no\\\\010637-20201104@111218-L5-S.jpg', 0), ('./dataset/1/train\\\\no\\\\010640-20201104@125815-L3-S.jpg', 0), ('./dataset/1/train\\\\no\\\\010641-20201104@131505-L3-S.jpg', 0), ('./dataset/1/train\\\\no\\\\010641-20201104@131505-R1-S.jpg', 0), ('./dataset/1/train\\\\no\\\\010649-20201104@160420-L2-S.jpg', 0), ('./dataset/1/train\\\\no\\\\010649-20201104@160420-L3-S.jpg', 0), ('./dataset/1/train\\\\no\\\\010649-20201104@160420-R1-S.jpg', 0), ('./dataset/1/train\\\\no\\\\010653-20201105@100010-R1-S.jpg', 0), ('./dataset/1/train\\\\no\\\\010654-20201125@145253-R1-S.jpg', 0), ('./dataset/1/train\\\\no\\\\010654-20210108@162712-R1-S.jpg', 0), ('./dataset/1/train\\\\no\\\\010671-20201105@130720-L2-S.jpg', 0), ('./dataset/1/train\\\\no\\\\010672-20201105@131103-L4-S.jpg', 0), ('./dataset/1/train\\\\no\\\\010672-20201105@131103-L5-S.jpg', 0), ('./dataset/1/train\\\\no\\\\010672-20201105@131103-R1-S.jpg', 0), ('./dataset/1/train\\\\no\\\\010672-20201105@131103-R2-S.jpg', 0), ('./dataset/1/train\\\\no\\\\010676-20201105@140243-R3-S.jpg', 0), ('./dataset/1/train\\\\no\\\\010687-20201106@105326-R11-S.jpg', 0), ('./dataset/1/train\\\\no\\\\010687-20201106@105326-R9-S.jpg', 0), ('./dataset/1/train\\\\no\\\\010696-20201106@153839-L1-S.jpg', 0), ('./dataset/1/train\\\\no\\\\010707-20201107@102400-R1-S.jpg', 0), ('./dataset/1/train\\\\no\\\\010709-20201107@104654-L3-S.jpg', 0), ('./dataset/1/train\\\\no\\\\010709-20201107@104654-R1-S.jpg', 0), ('./dataset/1/train\\\\no\\\\010710-20201107@105908-R1-S.jpg', 0), ('./dataset/1/train\\\\no\\\\010716-20201107@125256-L2-S.jpg', 0), ('./dataset/1/train\\\\no\\\\010716-20201107@125256-R1-S.jpg', 0), ('./dataset/1/train\\\\no\\\\010719-20201107@142543-L2-S.jpg', 0), ('./dataset/1/train\\\\no\\\\010741-20201108@111054-L4-S.jpg', 0), ('./dataset/1/train\\\\no\\\\010742-20201108@112405-L4-S.jpg', 0), ('./dataset/1/train\\\\no\\\\010742-20201108@112405-L5-S.jpg', 0), ('./dataset/1/train\\\\no\\\\010742-20201108@112405-L6-S.jpg', 0), ('./dataset/1/train\\\\no\\\\010745-20201108@153927-L2-S.jpg', 0), ('./dataset/1/train\\\\no\\\\010745-20201108@153927-R1-S.jpg', 0), ('./dataset/1/train\\\\no\\\\010749-20201108@165957-L3-S.jpg', 0), ('./dataset/1/train\\\\no\\\\010749-20201108@165957-R1-S.jpg', 0), ('./dataset/1/train\\\\no\\\\010762-20201109@091231-R1-S.jpg', 0), ('./dataset/1/train\\\\no\\\\010766-20201109@092916-L2-S.jpg', 0), ('./dataset/1/train\\\\no\\\\010776-20201109@101224-L3-S.jpg', 0), ('./dataset/1/train\\\\no\\\\010776-20201109@101224-R1-S.jpg', 0), ('./dataset/1/train\\\\no\\\\010776-20201109@101224-R5-S.jpg', 0), ('./dataset/1/train\\\\no\\\\010777-20201109@101544-L2-S.jpg', 0), ('./dataset/1/train\\\\no\\\\010777-20201109@101544-R1-S.jpg', 0), ('./dataset/1/train\\\\no\\\\010783-20201109@103455-L2-S.jpg', 0), ('./dataset/1/train\\\\no\\\\010783-20201109@103455-R1-S.jpg', 0), ('./dataset/1/train\\\\no\\\\010790-20201109@105651-R1-S.jpg', 0), ('./dataset/1/train\\\\no\\\\010796-20201109@111633-L2-S.jpg', 0), ('./dataset/1/train\\\\no\\\\010796-20201109@111633-R1-S.jpg', 0), ('./dataset/1/train\\\\no\\\\010802-20201109@115257-L3-S.jpg', 0), ('./dataset/1/train\\\\no\\\\010803-20201109@120205-L3-S.jpg', 0), ('./dataset/1/train\\\\no\\\\010806-20201109@121416-L2-S.jpg', 0), ('./dataset/1/train\\\\no\\\\010806-20201109@121416-R1-S.jpg', 0), ('./dataset/1/train\\\\no\\\\010818-20201109@130028-L2-S.jpg', 0), ('./dataset/1/train\\\\no\\\\010818-20201109@130028-R1-S.jpg', 0), ('./dataset/1/train\\\\no\\\\010819-20201109@130521-L3-S.jpg', 0), ('./dataset/1/train\\\\no\\\\010819-20201109@130521-R1-S.jpg', 0), ('./dataset/1/train\\\\no\\\\010827-20201109@133013-R1-S.jpg', 0), ('./dataset/1/train\\\\no\\\\010830-20201109@133801-L2-S.jpg', 0), ('./dataset/1/train\\\\no\\\\010837-20201109@135600-R1-S.jpg', 0), ('./dataset/1/train\\\\no\\\\010844-20201109@142116-L2-S.jpg', 0), ('./dataset/1/train\\\\yes\\\\004494-20200414@142854-L3-S.jpg', 1), ('./dataset/1/train\\\\yes\\\\004494-20200414@142854-R1-S.jpg', 1), ('./dataset/1/train\\\\yes\\\\004498-20200414@154928-R1-S.jpg', 1), ('./dataset/1/train\\\\yes\\\\004507-20200415@100815-L5-S.jpg', 1), ('./dataset/1/train\\\\yes\\\\004510-20200415@105840-L5-S.jpg', 1), ('./dataset/1/train\\\\yes\\\\004512-20200415@120158-L2-S.jpg', 1), ('./dataset/1/train\\\\yes\\\\004514-20200415@121018-L2-S.jpg', 1), ('./dataset/1/train\\\\yes\\\\004514-20200415@121018-R1-S.jpg', 1), ('./dataset/1/train\\\\yes\\\\004517-20200415@141250-R1-S.jpg', 1), ('./dataset/1/train\\\\yes\\\\004521-20200416@092809-L2-S.jpg', 1), ('./dataset/1/train\\\\yes\\\\004521-20200416@092809-R3-S.jpg', 1), ('./dataset/1/train\\\\yes\\\\004523-20200416@102022-L2-S.jpg', 1), ('./dataset/1/train\\\\yes\\\\004523-20200416@102022-R3-S.jpg', 1), ('./dataset/1/train\\\\yes\\\\004525-20200416@103333-L2-S.jpg', 1), ('./dataset/1/train\\\\yes\\\\004526-20200416@105458-L2-S.jpg', 1), ('./dataset/1/train\\\\yes\\\\004526-20200416@105458-L3-S.jpg', 1), ('./dataset/1/train\\\\yes\\\\004526-20200416@105458-R1-S.jpg', 1), ('./dataset/1/train\\\\yes\\\\004529-20200416@121930-R1-S.jpg', 1), ('./dataset/1/train\\\\yes\\\\004536-20200416@172608-L2-S.jpg', 1), ('./dataset/1/train\\\\yes\\\\004536-20200416@172608-R1-S.jpg', 1), ('./dataset/1/train\\\\yes\\\\004538-20200417@095553-L2-S.jpg', 1), ('./dataset/1/train\\\\yes\\\\004540-20200417@101348-L2-S.jpg', 1), ('./dataset/1/train\\\\yes\\\\004540-20200417@101348-L4-S.jpg', 1), ('./dataset/1/train\\\\yes\\\\004540-20200417@101348-R1-S.jpg', 1), ('./dataset/1/train\\\\yes\\\\004545-20200417@131441-L3-S.jpg', 1), ('./dataset/1/train\\\\yes\\\\004546-20200417@134941-L2-S.jpg', 1), ('./dataset/1/train\\\\yes\\\\004552-20200417@154217-R1-S.jpg', 1), ('./dataset/1/train\\\\yes\\\\004552-20200417@154217-R3-S.jpg', 1), ('./dataset/1/train\\\\yes\\\\004553-20200417@160716-R1-S.jpg', 1), ('./dataset/1/train\\\\yes\\\\004557-20200417@173831-R1-S.jpg', 1), ('./dataset/1/train\\\\yes\\\\004563-20200418@101049-L3-S.jpg', 1), ('./dataset/1/train\\\\yes\\\\004570-20200418@114051-L2-S.jpg', 1), ('./dataset/1/train\\\\yes\\\\004570-20200418@114051-L3-S.jpg', 1), ('./dataset/1/train\\\\yes\\\\004570-20200418@114051-R1-S.jpg', 1), ('./dataset/1/train\\\\yes\\\\004571-20200418@114448-L2-S.jpg', 1), ('./dataset/1/train\\\\yes\\\\004581-20200418@134104-L3-S.jpg', 1), ('./dataset/1/train\\\\yes\\\\004581-20200418@134104-R1-S.jpg', 1), ('./dataset/1/train\\\\yes\\\\004582-20200418@135708-R1-S.jpg', 1), ('./dataset/1/train\\\\yes\\\\004584-20200418@150052-L2-S.jpg', 1), ('./dataset/1/train\\\\yes\\\\004585-20200418@150345-L2-S.jpg', 1), ('./dataset/1/train\\\\yes\\\\004585-20200418@150345-R1-S.jpg', 1), ('./dataset/1/train\\\\yes\\\\004592-20200419@091811-R1-S.jpg', 1), ('./dataset/1/train\\\\yes\\\\004605-20200419@120038-R1-S.jpg', 1), ('./dataset/1/train\\\\yes\\\\004612-20200419@152820-R1-S.jpg', 1), ('./dataset/1/train\\\\yes\\\\004614-20200419@154448-R1-S.jpg', 1), ('./dataset/1/train\\\\yes\\\\004618-20200419@171449-R1-S.jpg', 1), ('./dataset/1/train\\\\yes\\\\004618-20200419@171449-R2-S.jpg', 1), ('./dataset/1/train\\\\yes\\\\004619-20200419@172028-L3-S.jpg', 1), ('./dataset/1/train\\\\yes\\\\004623-20200419@174125-L2-S.jpg', 1), ('./dataset/1/train\\\\yes\\\\004623-20200419@174125-R1-S.jpg', 1), ('./dataset/1/train\\\\yes\\\\004625-20200420@100226-R1-S.jpg', 1), ('./dataset/1/train\\\\yes\\\\004625-20200424@100730-R1-S.jpg', 1), ('./dataset/1/train\\\\yes\\\\004626-20200420@103540-R1-S.jpg', 1), ('./dataset/1/train\\\\yes\\\\004639-20200420@133429-L3-S.jpg', 1), ('./dataset/1/train\\\\yes\\\\004639-20200420@133429-R1-S.jpg', 1), ('./dataset/1/train\\\\yes\\\\004643-20200424@102947-R1-S.jpg', 1), ('./dataset/1/train\\\\yes\\\\004643-20200424@102947-R4-S.jpg', 1), ('./dataset/1/train\\\\yes\\\\004646-20200421@111119-L4-S.jpg', 1), ('./dataset/1/train\\\\yes\\\\004646-20200421@111119-R2-S.jpg', 1), ('./dataset/1/train\\\\yes\\\\004647-20200421@112311-L2-S.jpg', 1), ('./dataset/1/train\\\\yes\\\\004648-20200421@112646-L4-S.jpg', 1), ('./dataset/1/train\\\\yes\\\\004648-20200421@112646-L5-S.jpg', 1), ('./dataset/1/train\\\\yes\\\\004656-20200421@125144-L2-S.jpg', 1), ('./dataset/1/train\\\\yes\\\\004656-20200421@125144-R1-S.jpg', 1), ('./dataset/1/train\\\\yes\\\\004660-20200421@144941-L2-S.jpg', 1), ('./dataset/1/train\\\\yes\\\\004660-20200421@144941-R1-S.jpg', 1), ('./dataset/1/train\\\\yes\\\\004678-20200422@154312-R1-S.jpg', 1), ('./dataset/1/train\\\\yes\\\\004679-20200422@160659-L4-S.jpg', 1), ('./dataset/1/train\\\\yes\\\\004679-20200422@160659-R1-S.jpg', 1), ('./dataset/1/train\\\\yes\\\\004685-20200423@111212-R10-S.jpg', 1), ('./dataset/1/train\\\\yes\\\\004685-20200423@111212-R5-S.jpg', 1), ('./dataset/1/train\\\\yes\\\\004685-20200423@111212-R6-S.jpg', 1), ('./dataset/1/train\\\\yes\\\\004685-20200423@111212-R7-S.jpg', 1), ('./dataset/1/train\\\\yes\\\\004693-20200423@142052-L3-S.jpg', 1), ('./dataset/1/train\\\\yes\\\\004698-20200424@091710-L2-S.jpg', 1), ('./dataset/1/train\\\\yes\\\\004698-20200424@091710-L3-S.jpg', 1), ('./dataset/1/train\\\\yes\\\\004698-20200424@091710-R1-S.jpg', 1), ('./dataset/1/train\\\\yes\\\\004700-20200424@110125-R1-S.jpg', 1), ('./dataset/1/train\\\\yes\\\\004700-20200424@110125-R2-S.jpg', 1), ('./dataset/1/train\\\\yes\\\\004707-20200425@095129-R1-S.jpg', 1), ('./dataset/1/train\\\\yes\\\\004707-20200425@095129-R2-S.jpg', 1), ('./dataset/1/train\\\\yes\\\\004712-20200425@102205-L4-S.jpg', 1), ('./dataset/1/train\\\\yes\\\\004712-20200425@102205-R3-S.jpg', 1), ('./dataset/1/train\\\\yes\\\\004721-20200425@115937-R1-S.jpg', 1), ('./dataset/1/train\\\\yes\\\\004721-20200425@115937-R3-S.jpg', 1), ('./dataset/1/train\\\\yes\\\\004721-20200425@115937-R6-S.jpg', 1), ('./dataset/1/train\\\\yes\\\\004722-20200425@121526-L3-S.jpg', 1), ('./dataset/1/train\\\\yes\\\\004722-20200425@121526-R1-S.jpg', 1), ('./dataset/1/train\\\\yes\\\\004722-20200425@121526-R5-S.jpg', 1), ('./dataset/1/train\\\\yes\\\\004730-20200425@142505-L3-S.jpg', 1), ('./dataset/1/train\\\\yes\\\\004730-20200425@142505-L6-S.jpg', 1), ('./dataset/1/train\\\\yes\\\\004730-20200425@142505-R1-S.jpg', 1), ('./dataset/1/train\\\\yes\\\\004732-20200425@143815-L2-S.jpg', 1), ('./dataset/1/train\\\\yes\\\\004732-20200425@143815-L3-S.jpg', 1), ('./dataset/1/train\\\\yes\\\\004732-20200425@143815-R1-S.jpg', 1), ('./dataset/1/train\\\\yes\\\\004738-20200425@151909-L2-S.jpg', 1), ('./dataset/1/train\\\\yes\\\\004738-20200425@151909-R1-S.jpg', 1), ('./dataset/1/train\\\\yes\\\\004740-20200425@160834-L3-S.jpg', 1), ('./dataset/1/train\\\\yes\\\\004740-20200425@160834-R1-S.jpg', 1), ('./dataset/1/train\\\\yes\\\\004741-20200425@163655-L3-S.jpg', 1), ('./dataset/1/train\\\\yes\\\\004749-20200426@095437-L4-S.jpg', 1), ('./dataset/1/train\\\\yes\\\\004749-20200426@095437-R1-S.jpg', 1), ('./dataset/1/train\\\\yes\\\\004749-20200426@095437-R2-S.jpg', 1), ('./dataset/1/train\\\\yes\\\\004749-20200426@095437-R3-S.jpg', 1), ('./dataset/1/train\\\\yes\\\\004754-20200426@135625-R7-S.jpg', 1), ('./dataset/1/train\\\\yes\\\\004757-20200426@143001-L2-S.jpg', 1), ('./dataset/1/train\\\\yes\\\\004757-20200426@143001-R1-S.jpg', 1), ('./dataset/1/train\\\\yes\\\\004765-20200426@154212-L2-S.jpg', 1), ('./dataset/1/train\\\\yes\\\\004765-20200426@154212-R3-S.jpg', 1), ('./dataset/1/train\\\\yes\\\\004765-20200426@154212-R4-S.jpg', 1), ('./dataset/1/train\\\\yes\\\\004766-20200426@155414-L3-S.jpg', 1), ('./dataset/1/train\\\\yes\\\\004766-20200426@155414-R1-S.jpg', 1), ('./dataset/1/train\\\\yes\\\\004766-20200426@155414-R2-S.jpg', 1), ('./dataset/1/train\\\\yes\\\\004767-20200426@163808-L2-S.jpg', 1), ('./dataset/1/train\\\\yes\\\\004767-20200426@163808-R1-S.jpg', 1), ('./dataset/1/train\\\\yes\\\\004769-20200426@164747-R1-S.jpg', 1), ('./dataset/1/train\\\\yes\\\\004775-20200427@104606-R2-S.jpg', 1), ('./dataset/1/train\\\\yes\\\\004775-20200507@102451-L3-S.jpg', 1), ('./dataset/1/train\\\\yes\\\\004775-20200507@102451-R1-S.jpg', 1), ('./dataset/1/train\\\\yes\\\\004779-20200427@113514-R1-S.jpg', 1), ('./dataset/1/train\\\\yes\\\\004784-20200427@122823-R1-S.jpg', 1), ('./dataset/1/train\\\\yes\\\\004791-20200427@163425-L2-S.jpg', 1), ('./dataset/1/train\\\\yes\\\\004791-20200427@163425-R1-S.jpg', 1), ('./dataset/1/train\\\\yes\\\\004793-20200428@100153-R1-S.jpg', 1), ('./dataset/1/train\\\\yes\\\\004794-20200428@101247-L4-S.jpg', 1), ('./dataset/1/train\\\\yes\\\\004794-20200428@101247-R1-S.jpg', 1), ('./dataset/1/train\\\\yes\\\\004794-20200509@114234-R1-S.jpg', 1), ('./dataset/1/train\\\\yes\\\\004795-20200428@104327-L2-S.jpg', 1), ('./dataset/1/train\\\\yes\\\\004795-20200428@104327-R1-S.jpg', 1), ('./dataset/1/train\\\\yes\\\\004797-20200428@112921-L3-S.jpg', 1), ('./dataset/1/train\\\\yes\\\\004797-20200428@112921-R1-S.jpg', 1), ('./dataset/1/train\\\\yes\\\\004797-20200428@120859-L2-S.jpg', 1), ('./dataset/1/train\\\\yes\\\\013234-20210203@161408-R2-S.jpg', 1), ('./dataset/1/train\\\\yes\\\\013235-20210203@164619-L3-S.jpg', 1), ('./dataset/1/train\\\\yes\\\\013235-20210203@164619-L4-S.jpg', 1), ('./dataset/1/train\\\\yes\\\\013235-20210203@164619-R1-S.jpg', 1), ('./dataset/1/train\\\\yes\\\\013235-20210203@164619-R2-S.jpg', 1), ('./dataset/1/train\\\\yes\\\\013238-20210203@172037-L2-S.jpg', 1), ('./dataset/1/train\\\\yes\\\\013238-20210203@172037-L3-S.jpg', 1), ('./dataset/1/train\\\\yes\\\\013238-20210203@172037-R1-S.jpg', 1), ('./dataset/1/train\\\\yes\\\\013239-20210203@172721-L2-S.jpg', 1), ('./dataset/1/train\\\\yes\\\\013239-20210203@172721-L3-S.jpg', 1), ('./dataset/1/train\\\\yes\\\\013239-20210203@172721-R1-S.jpg', 1), ('./dataset/1/train\\\\yes\\\\013242-20210204@094848-L4-S.jpg', 1), ('./dataset/1/train\\\\yes\\\\013243-20210204@095857-R4-S.jpg', 1), ('./dataset/1/train\\\\yes\\\\013243-20210204@095857-R5-S.jpg', 1), ('./dataset/1/train\\\\yes\\\\013247-20210204@105743-L2-S.jpg', 1), ('./dataset/1/train\\\\yes\\\\013247-20210204@105743-R1-S.jpg', 1), ('./dataset/1/train\\\\yes\\\\013249-20210204@110451-L2-S.jpg', 1), ('./dataset/1/train\\\\yes\\\\013249-20210204@110451-R1-S.jpg', 1), ('./dataset/1/train\\\\yes\\\\013253-20210204@141607-R1-S.jpg', 1), ('./dataset/1/train\\\\yes\\\\013253-20210204@141607-R2-S.jpg', 1), ('./dataset/1/train\\\\yes\\\\013261-20210204@161859-L5-S.jpg', 1), ('./dataset/1/train\\\\yes\\\\013261-20210204@161859-R8-S.jpg', 1), ('./dataset/1/train\\\\yes\\\\013262-20210204@163229-L3-S.jpg', 1), ('./dataset/1/train\\\\yes\\\\013262-20210204@163229-R1-S.jpg', 1), ('./dataset/1/train\\\\yes\\\\013262-20210204@163229-R2-S.jpg', 1), ('./dataset/1/train\\\\yes\\\\013268-20210205@103659-L2-S.jpg', 1), ('./dataset/1/train\\\\yes\\\\013268-20210205@103659-L6-S.jpg', 1), ('./dataset/1/train\\\\yes\\\\013268-20210205@103659-L7-S.jpg', 1), ('./dataset/1/train\\\\yes\\\\013268-20210205@103659-R1-S.jpg', 1), ('./dataset/1/train\\\\yes\\\\013268-20210205@103659-R3-S.jpg', 1), ('./dataset/1/train\\\\yes\\\\013268-20210205@103659-R4-S.jpg', 1), ('./dataset/1/train\\\\yes\\\\013268-20210205@103659-R5-S.jpg', 1), ('./dataset/1/train\\\\yes\\\\013276-20210205@135642-L6-S.jpg', 1), ('./dataset/1/train\\\\yes\\\\013277-20210313@153017-L5-S.jpg', 1), ('./dataset/1/train\\\\yes\\\\013277-20210313@153017-R4-S.jpg', 1), ('./dataset/1/train\\\\yes\\\\013278-20210205@141102-R1-S.jpg', 1), ('./dataset/1/train\\\\yes\\\\013280-20210205@152511-L4-S.jpg', 1), ('./dataset/1/train\\\\yes\\\\013283-20210205@155739-L4-S.jpg', 1), ('./dataset/1/train\\\\yes\\\\013283-20210205@155739-R2-S.jpg', 1), ('./dataset/1/train\\\\yes\\\\013289-20210206@095313-L5-S.jpg', 1), ('./dataset/1/train\\\\yes\\\\013289-20210206@095313-R1-S.jpg', 1), ('./dataset/1/train\\\\yes\\\\013290-20210206@100422-R1-S.jpg', 1), ('./dataset/1/train\\\\yes\\\\013291-20210206@101027-L5-S.jpg', 1), ('./dataset/1/train\\\\yes\\\\013291-20210206@101027-L9-S.jpg', 1), ('./dataset/1/train\\\\yes\\\\013291-20210206@101027-R1-S.jpg', 1), ('./dataset/1/train\\\\yes\\\\013291-20210206@101027-R2-S.jpg', 1), ('./dataset/1/train\\\\yes\\\\013291-20210206@101027-R4-S.jpg', 1), ('./dataset/1/train\\\\yes\\\\013295-20210206@104638-L2-S.jpg', 1), ('./dataset/1/train\\\\yes\\\\013295-20210206@104638-R1-S.jpg', 1), ('./dataset/1/train\\\\yes\\\\013296-20210206@105000-L2-S.jpg', 1), ('./dataset/1/train\\\\yes\\\\013296-20210206@105000-R1-S.jpg', 1), ('./dataset/1/train\\\\yes\\\\013300-20210206@120346-R1-S.jpg', 1), ('./dataset/1/train\\\\yes\\\\013301-20210206@121045-R3-S.jpg', 1), ('./dataset/1/train\\\\yes\\\\013304-20210206@122806-L4-S.jpg', 1), ('./dataset/1/train\\\\yes\\\\013305-20210206@123201-L2-S.jpg', 1), ('./dataset/1/train\\\\yes\\\\013305-20210206@123201-R1-S.jpg', 1), ('./dataset/1/train\\\\yes\\\\013306-20210206@125730-L4-S.jpg', 1), ('./dataset/1/train\\\\yes\\\\013306-20210206@125730-L5-S.jpg', 1), ('./dataset/1/train\\\\yes\\\\013306-20210206@125730-R2-S.jpg', 1), ('./dataset/1/train\\\\yes\\\\013306-20210206@125730-R3-S.jpg', 1), ('./dataset/1/train\\\\yes\\\\013310-20210206@140714-L10-S.jpg', 1), ('./dataset/1/train\\\\yes\\\\013310-20210206@140714-L6-S.jpg', 1), ('./dataset/1/train\\\\yes\\\\013310-20210206@140714-L7-S.jpg', 1), ('./dataset/1/train\\\\yes\\\\013310-20210206@140714-L8-S.jpg', 1), ('./dataset/1/train\\\\yes\\\\013310-20210206@140714-L9-S.jpg', 1), ('./dataset/1/train\\\\yes\\\\013310-20210206@140714-R1-S.jpg', 1), ('./dataset/1/train\\\\yes\\\\013310-20210206@140714-R2-S.jpg', 1), ('./dataset/1/train\\\\yes\\\\013310-20210206@140714-R3-S.jpg', 1), ('./dataset/1/train\\\\yes\\\\013310-20210206@140714-R4-S.jpg', 1), ('./dataset/1/train\\\\yes\\\\013310-20210206@140714-R5-S.jpg', 1), ('./dataset/1/train\\\\yes\\\\013314-20210206@143818-R2-S.jpg', 1), ('./dataset/1/train\\\\yes\\\\013314-20210206@143818-R6-S.jpg', 1), ('./dataset/1/train\\\\yes\\\\013315-20210206@144457-L2-S.jpg', 1), ('./dataset/1/train\\\\yes\\\\013315-20210206@144457-R1-S.jpg', 1), ('./dataset/1/train\\\\yes\\\\013316-20210206@150154-L2-S.jpg', 1), ('./dataset/1/train\\\\yes\\\\013316-20210206@150154-R1-S.jpg', 1), ('./dataset/1/train\\\\yes\\\\013317-20210206@150359-R3-S.jpg', 1), ('./dataset/1/train\\\\yes\\\\013319-20210206@151818-L3-S.jpg', 1), ('./dataset/1/train\\\\yes\\\\013319-20210206@151818-R1-S.jpg', 1), ('./dataset/1/train\\\\yes\\\\013319-20210206@151818-R6-S.jpg', 1), ('./dataset/1/train\\\\yes\\\\013324-20210206@155444-L3-S.jpg', 1), ('./dataset/1/train\\\\yes\\\\013324-20210206@155444-L5-S.jpg', 1), ('./dataset/1/train\\\\yes\\\\013324-20210206@155444-L6-S.jpg', 1), ('./dataset/1/train\\\\yes\\\\013325-20210206@161912-L2-S.jpg', 1), ('./dataset/1/train\\\\yes\\\\013325-20210206@161912-R1-S.jpg', 1), ('./dataset/1/train\\\\yes\\\\013327-20210206@163701-L2-S.jpg', 1), ('./dataset/1/train\\\\yes\\\\013327-20210206@163701-L3-S.jpg', 1), ('./dataset/1/train\\\\yes\\\\013327-20210206@163701-R1-S.jpg', 1), ('./dataset/1/train\\\\yes\\\\013329-20210206@173318-L4-S.jpg', 1), ('./dataset/1/train\\\\yes\\\\013329-20210206@173318-R1-S.jpg', 1), ('./dataset/1/train\\\\yes\\\\013330-20210207@083207-L2-S.jpg', 1), ('./dataset/1/train\\\\yes\\\\013335-20210207@095142-R1-S.jpg', 1), ('./dataset/1/train\\\\yes\\\\013337-20210207@103755-L2-S.jpg', 1), ('./dataset/1/train\\\\yes\\\\013340-20210207@105600-R1-S.jpg', 1), ('./dataset/1/train\\\\yes\\\\013344-20210207@110920-L2-S.jpg', 1), ('./dataset/1/train\\\\yes\\\\013344-20210207@110920-R1-S.jpg', 1), ('./dataset/1/train\\\\yes\\\\013345-20210207@111212-R2-S.jpg', 1), ('./dataset/1/train\\\\yes\\\\013350-20210207@121625-L2-S.jpg', 1), ('./dataset/1/train\\\\yes\\\\013350-20210207@121625-L3-S.jpg', 1), ('./dataset/1/train\\\\yes\\\\013350-20210207@121625-R1-S.jpg', 1), ('./dataset/1/train\\\\yes\\\\013354-20210207@134026-R1-S.jpg', 1), ('./dataset/1/train\\\\yes\\\\013354-20210207@134026-R2-S.jpg', 1), ('./dataset/1/train\\\\yes\\\\013354-20210207@134026-R3-S.jpg', 1), ('./dataset/1/train\\\\yes\\\\013361-20210207@150735-L3-S.jpg', 1), ('./dataset/1/train\\\\yes\\\\013361-20210207@150735-R1-S.jpg', 1), ('./dataset/1/train\\\\yes\\\\013361-20210207@150735-R2-S.jpg', 1), ('./dataset/1/train\\\\yes\\\\013365-20210207@152945-L5-S.jpg', 1), ('./dataset/1/train\\\\yes\\\\013367-20210208@093533-R1-S.jpg', 1), ('./dataset/1/train\\\\yes\\\\013369-20210208@100716-L2-S.jpg', 1), ('./dataset/1/train\\\\yes\\\\013369-20210208@100716-R1-S.jpg', 1), ('./dataset/1/train\\\\yes\\\\013370-20210208@101029-L3-S.jpg', 1), ('./dataset/1/train\\\\yes\\\\013373-20210208@105108-L2-S.jpg', 1), ('./dataset/1/train\\\\yes\\\\013373-20210208@105108-R1-S.jpg', 1), ('./dataset/1/train\\\\yes\\\\013375-20210208@111742-R1-S.jpg', 1), ('./dataset/1/train\\\\yes\\\\013375-20210208@141342-L2-S.jpg', 1), ('./dataset/1/train\\\\yes\\\\013375-20210208@141342-R1-S.jpg', 1), ('./dataset/1/train\\\\yes\\\\013375-20210208@141342-R3-S.jpg', 1), ('./dataset/1/train\\\\yes\\\\013376-20210208@112442-R1-S.jpg', 1), ('./dataset/1/train\\\\yes\\\\013376-20210208@112442-R4-S.jpg', 1), ('./dataset/1/train\\\\yes\\\\013377-20210208@115208-L4-S.jpg', 1), ('./dataset/1/train\\\\yes\\\\013378-20210208@115524-R1-S.jpg', 1), ('./dataset/1/train\\\\yes\\\\013378-20210208@115524-R2-S.jpg', 1), ('./dataset/1/train\\\\yes\\\\013380-20210208@132334-L3-S.jpg', 1), ('./dataset/1/train\\\\yes\\\\013380-20210208@132334-R1-S.jpg', 1), ('./dataset/1/train\\\\yes\\\\013380-20210208@132334-R4-S.jpg', 1), ('./dataset/1/train\\\\yes\\\\013382-20210208@134817-L4-S.jpg', 1), ('./dataset/1/train\\\\yes\\\\013388-20210208@154641-L2-S.jpg', 1), ('./dataset/1/train\\\\yes\\\\013392-20210208@162917-L2-S.jpg', 1), ('./dataset/1/train\\\\yes\\\\013392-20210208@162917-R1-S.jpg', 1), ('./dataset/1/train\\\\yes\\\\013392-20210208@162917-R5-S.jpg', 1), ('./dataset/1/train\\\\yes\\\\013394-20210209@110211-R1-S.jpg', 1), ('./dataset/1/train\\\\yes\\\\013394-20210209@110211-R4-S.jpg', 1), ('./dataset/1/train\\\\yes\\\\013396-20210209@111245-L2-S.jpg', 1), ('./dataset/1/train\\\\yes\\\\013396-20210209@111245-L4-S.jpg', 1), ('./dataset/1/train\\\\yes\\\\013396-20210226@095213-L4-S.jpg', 1), ('./dataset/1/train\\\\yes\\\\013396-20210310@153029-L5-S.jpg', 1), ('./dataset/1/train\\\\yes\\\\013396-20210322@095817-L2-S.jpg', 1), ('./dataset/1/train\\\\yes\\\\013396-20210322@095817-L6-S.jpg', 1), ('./dataset/1/train\\\\yes\\\\013398-20210209@112244-L2-S.jpg', 1), ('./dataset/1/train\\\\yes\\\\013398-20210209@112244-R1-S.jpg', 1), ('./dataset/1/train\\\\yes\\\\013402-20210209@131006-R1-S.jpg', 1), ('./dataset/1/train\\\\yes\\\\013406-20210209@153135-L2-S.jpg', 1), ('./dataset/1/train\\\\yes\\\\013406-20210209@153135-R1-S.jpg', 1), ('./dataset/1/train\\\\yes\\\\013407-20210210@095906-L5-S.jpg', 1), ('./dataset/1/train\\\\yes\\\\013408-20210210@101257-R1-S.jpg', 1), ('./dataset/1/train\\\\yes\\\\013411-20210210@122917-L2-S.jpg', 1), ('./dataset/1/train\\\\yes\\\\013411-20210210@122917-R1-S.jpg', 1), ('./dataset/1/train\\\\yes\\\\013412-20210214@085517-L3-S.jpg', 1), ('./dataset/1/train\\\\yes\\\\013414-20210214@092439-L2-S.jpg', 1), ('./dataset/1/train\\\\yes\\\\013416-20210214@095001-L2-S.jpg', 1), ('./dataset/1/train\\\\yes\\\\013416-20210214@095001-R1-S.jpg', 1), ('./dataset/1/train\\\\yes\\\\013416-20210214@095001-R3-S.jpg', 1), ('./dataset/1/train\\\\yes\\\\013420-20210214@104131-R1-S.jpg', 1), ('./dataset/1/train\\\\yes\\\\013422-20210214@110156-L5-S.jpg', 1), ('./dataset/1/train\\\\yes\\\\013422-20210214@110156-R2-S.jpg', 1), ('./dataset/1/train\\\\yes\\\\013424-20210214@120519-L2-S.jpg', 1), ('./dataset/1/train\\\\yes\\\\013425-20210214@124645-L3-S.jpg', 1), ('./dataset/1/train\\\\yes\\\\013425-20210214@124645-R2-S.jpg', 1), ('./dataset/1/train\\\\yes\\\\013426-20210214@131652-L2-S.jpg', 1), ('./dataset/1/train\\\\yes\\\\013426-20210214@131652-L6-S.jpg', 1), ('./dataset/1/train\\\\yes\\\\013426-20210214@131652-R1-S.jpg', 1), ('./dataset/1/train\\\\yes\\\\013426-20210214@131652-R3-S.jpg', 1), ('./dataset/1/train\\\\yes\\\\013426-20210214@131652-R5-S.jpg', 1), ('./dataset/1/train\\\\yes\\\\013427-20210214@132750-R1-S.jpg', 1), ('./dataset/1/train\\\\yes\\\\013433-20210214@160931-L6-S.jpg', 1), ('./dataset/1/train\\\\yes\\\\013433-20210214@160931-L7-S.jpg', 1), ('./dataset/1/train\\\\yes\\\\013433-20210214@160931-R1-S.jpg', 1), ('./dataset/1/train\\\\yes\\\\013433-20210214@160931-R2-S.jpg', 1), ('./dataset/1/train\\\\yes\\\\013433-20210214@160931-R8-S.jpg', 1), ('./dataset/1/train\\\\yes\\\\013434-20210215@084643-L1-S.jpg', 1), ('./dataset/1/train\\\\yes\\\\013434-20210215@084643-L2-S.jpg', 1), ('./dataset/1/train\\\\yes\\\\013435-20210215@091731-R8-S.jpg', 1), ('./dataset/1/train\\\\yes\\\\013437-20210215@104528-L5-S.jpg', 1), ('./dataset/1/train\\\\yes\\\\013437-20210215@104528-R1-S.jpg', 1), ('./dataset/1/train\\\\yes\\\\013440-20210215@121017-L3-S.jpg', 1), ('./dataset/1/train\\\\yes\\\\013440-20210215@121017-L4-S.jpg', 1), ('./dataset/1/train\\\\yes\\\\013440-20210215@121017-R1-S.jpg', 1), ('./dataset/1/train\\\\yes\\\\013440-20210215@121017-R5-S.jpg', 1), ('./dataset/1/train\\\\yes\\\\013442-20210215@123234-L6-S.jpg', 1), ('./dataset/1/train\\\\yes\\\\013442-20210215@123234-R1-S.jpg', 1), ('./dataset/1/train\\\\yes\\\\013442-20210215@123234-R5-S.jpg', 1), ('./dataset/1/train\\\\yes\\\\013443-20210215@130839-L2-S.jpg', 1), ('./dataset/1/train\\\\yes\\\\013443-20210215@130839-L3-S.jpg', 1), ('./dataset/1/train\\\\yes\\\\013443-20210215@130839-R1-S.jpg', 1), ('./dataset/1/train\\\\yes\\\\013443-20210215@130839-R4-S.jpg', 1), ('./dataset/1/train\\\\yes\\\\013443-20210215@130839-R5-S.jpg', 1), ('./dataset/1/train\\\\yes\\\\013446-20210215@134726-L7-S.jpg', 1), ('./dataset/1/train\\\\yes\\\\013448-20210215@145109-L4-S.jpg', 1), ('./dataset/1/train\\\\yes\\\\013448-20210215@145109-R1-S.jpg', 1), ('./dataset/1/train\\\\yes\\\\013449-20210215@145734-L7-S.jpg', 1), ('./dataset/1/train\\\\yes\\\\013449-20210215@145734-R2-S.jpg', 1), ('./dataset/1/train\\\\yes\\\\013449-20210215@145734-R5-S.jpg', 1), ('./dataset/1/train\\\\yes\\\\013449-20210215@145734-R6-S.jpg', 1), ('./dataset/1/train\\\\yes\\\\013452-20210215@153955-R1-S.jpg', 1), ('./dataset/1/train\\\\yes\\\\013452-20210215@153955-R3-S.jpg', 1), ('./dataset/1/train\\\\yes\\\\013454-20210215@160515-R1-S.jpg', 1), ('./dataset/1/train\\\\yes\\\\013454-20210215@160713-L1-S.jpg', 1), ('./dataset/1/train\\\\yes\\\\013455-20210215@160922-R2-S.jpg', 1), ('./dataset/1/train\\\\yes\\\\013456-20210215@161337-R1-S.jpg', 1), ('./dataset/1/train\\\\yes\\\\013456-20210215@161337-R2-S.jpg', 1), ('./dataset/1/train\\\\yes\\\\013457-20210215@161715-L3-S.jpg', 1), ('./dataset/1/train\\\\yes\\\\013457-20210215@161715-L4-S.jpg', 1), ('./dataset/1/train\\\\yes\\\\013457-20210215@161715-R1-S.jpg', 1), ('./dataset/1/train\\\\yes\\\\013457-20210215@161715-R2-S.jpg', 1), ('./dataset/1/train\\\\yes\\\\013460-20210216@102655-L4-S.jpg', 1), ('./dataset/1/train\\\\yes\\\\013465-20210216@111244-R1-S.jpg', 1), ('./dataset/1/train\\\\yes\\\\013465-20210216@111244-R2-S.jpg', 1), ('./dataset/1/train\\\\yes\\\\013465-20210216@112112-R1-S.jpg', 1), ('./dataset/1/train\\\\yes\\\\013465-20210216@112112-R4-S.jpg', 1), ('./dataset/1/train\\\\yes\\\\013465-20210216@112112-R5-S.jpg', 1), ('./dataset/1/train\\\\yes\\\\013465-20210216@112112-R6-S.jpg', 1), ('./dataset/1/train\\\\yes\\\\013469-20210216@115728-R1-S.jpg', 1), ('./dataset/1/train\\\\yes\\\\013469-20210216@115728-R2-S.jpg', 1), ('./dataset/1/train\\\\yes\\\\013470-20210216@120324-R1-S.jpg', 1), ('./dataset/1/train\\\\yes\\\\013474-20210216@125508-L2-S.jpg', 1), ('./dataset/1/train\\\\yes\\\\013474-20210216@125508-R1-S.jpg', 1), ('./dataset/1/train\\\\yes\\\\013475-20210216@142847-L3-S.jpg', 1), ('./dataset/1/train\\\\yes\\\\013475-20210216@142847-R1-S.jpg', 1), ('./dataset/1/train\\\\yes\\\\013475-20210216@142847-R4-S.jpg', 1), ('./dataset/1/train\\\\yes\\\\013475-20210216@142847-R5-S.jpg', 1), ('./dataset/1/train\\\\yes\\\\013475-20210216@142847-R6-S.jpg', 1), ('./dataset/1/train\\\\yes\\\\013475-20210216@142847-R7-S.jpg', 1), ('./dataset/1/train\\\\yes\\\\013478-20210216@151551-L5-S.jpg', 1), ('./dataset/1/train\\\\yes\\\\013478-20210216@151551-L6-S.jpg', 1), ('./dataset/1/train\\\\yes\\\\013478-20210216@151551-R1-S.jpg', 1), ('./dataset/1/train\\\\yes\\\\013478-20210216@151551-R2-S.jpg', 1), ('./dataset/1/train\\\\yes\\\\013479-20210216@152934-R1-S.jpg', 1), ('./dataset/1/train\\\\yes\\\\013479-20210216@152934-R2-S.jpg', 1), ('./dataset/1/train\\\\yes\\\\013479-20210216@152934-R3-S.jpg', 1), ('./dataset/1/train\\\\yes\\\\013479-20210216@152934-R5-S.jpg', 1), ('./dataset/1/train\\\\yes\\\\013480-20210216@155800-L2-S.jpg', 1), ('./dataset/1/train\\\\yes\\\\013480-20210216@155800-L3-S.jpg', 1), ('./dataset/1/train\\\\yes\\\\013480-20210216@155800-L4-S.jpg', 1), ('./dataset/1/train\\\\yes\\\\013480-20210216@155800-R1-S.jpg', 1), ('./dataset/1/train\\\\yes\\\\013480-20210216@155800-R5-S.jpg', 1), ('./dataset/1/train\\\\yes\\\\013480-20210216@155800-R6-S.jpg', 1), ('./dataset/1/train\\\\yes\\\\013488-20210217@105109-R1-S.jpg', 1), ('./dataset/1/train\\\\yes\\\\013488-20210217@105109-R2-S.jpg', 1), ('./dataset/1/train\\\\yes\\\\013489-20210217@111614-L2-S.jpg', 1), ('./dataset/1/train\\\\yes\\\\013489-20210217@111614-R1-S.jpg', 1), ('./dataset/1/train\\\\yes\\\\013489-20210217@111614-R5-S.jpg', 1), ('./dataset/1/train\\\\yes\\\\013491-20210217@121517-L3-S.jpg', 1), ('./dataset/1/train\\\\yes\\\\013491-20210217@121517-L5-S.jpg', 1), ('./dataset/1/train\\\\yes\\\\013491-20210217@121517-R6-S.jpg', 1), ('./dataset/1/train\\\\yes\\\\013491-20210217@121517-R7-S.jpg', 1), ('./dataset/1/train\\\\yes\\\\013491-20210217@121517-R8-S.jpg', 1), ('./dataset/1/train\\\\yes\\\\013492-20210217@122205-L3-S.jpg', 1), ('./dataset/1/train\\\\yes\\\\013492-20210217@122205-L4-S.jpg', 1), ('./dataset/1/train\\\\yes\\\\013492-20210217@122205-R1-S.jpg', 1), ('./dataset/1/train\\\\yes\\\\013493-20210217@125014-R1-S.jpg', 1), ('./dataset/1/train\\\\yes\\\\013494-20210217@125529-L3-S.jpg', 1), ('./dataset/1/train\\\\yes\\\\013494-20210217@125529-L4-S.jpg', 1), ('./dataset/1/train\\\\yes\\\\013494-20210217@125529-R1-S.jpg', 1), ('./dataset/1/train\\\\yes\\\\013494-20210217@125529-R2-S.jpg', 1), ('./dataset/1/train\\\\yes\\\\013495-20210217@125926-R1-S.jpg', 1), ('./dataset/1/train\\\\yes\\\\013495-20210217@125926-R3-S.jpg', 1), ('./dataset/1/train\\\\yes\\\\013500-20210217@134445-R1-S.jpg', 1), ('./dataset/1/train\\\\yes\\\\013500-20210217@134445-R2-S.jpg', 1), ('./dataset/1/train\\\\yes\\\\013500-20210217@134445-R8-S.jpg', 1), ('./dataset/1/train\\\\yes\\\\013500-20210221@091300-R1-S.jpg', 1), ('./dataset/1/train\\\\yes\\\\013501-20210217@135634-L2-S.jpg', 1), ('./dataset/1/train\\\\yes\\\\013501-20210217@135634-R1-S.jpg', 1), ('./dataset/1/train\\\\yes\\\\013501-20210217@135634-R4-S.jpg', 1), ('./dataset/1/train\\\\yes\\\\013502-20210217@140404-R1-S.jpg', 1), ('./dataset/1/train\\\\yes\\\\013502-20210217@140404-R3-S.jpg', 1), ('./dataset/1/train\\\\yes\\\\013503-20210217@141927-L1-S.jpg', 1), ('./dataset/1/train\\\\yes\\\\013508-20210217@155936-L8-S.jpg', 1), ('./dataset/1/train\\\\yes\\\\013508-20210217@155936-R1-S.jpg', 1), ('./dataset/1/train\\\\yes\\\\013508-20210217@155936-R2-S.jpg', 1), ('./dataset/1/train\\\\yes\\\\013508-20210217@155936-R3-S.jpg', 1), ('./dataset/1/train\\\\yes\\\\013512-20210217@163937-L3-S.jpg', 1), ('./dataset/1/train\\\\yes\\\\013512-20210217@163937-L4-S.jpg', 1), ('./dataset/1/train\\\\yes\\\\013513-20210217@165612-L3-S.jpg', 1), ('./dataset/1/train\\\\yes\\\\013513-20210217@165612-L4-S.jpg', 1), ('./dataset/1/train\\\\yes\\\\013513-20210217@165612-R1-S.jpg', 1), ('./dataset/1/train\\\\yes\\\\013513-20210217@165612-R2-S.jpg', 1), ('./dataset/1/train\\\\yes\\\\013517-20210217@171329-L2-S.jpg', 1), ('./dataset/1/train\\\\yes\\\\013517-20210217@171329-L3-S.jpg', 1), ('./dataset/1/train\\\\yes\\\\013517-20210217@171329-R1-S.jpg', 1), ('./dataset/1/train\\\\yes\\\\013522-20210218@093331-L2-S.jpg', 1), ('./dataset/1/train\\\\yes\\\\013522-20210218@093331-R1-S.jpg', 1), ('./dataset/1/train\\\\yes\\\\013527-20210218@103200-L2-S.jpg', 1), ('./dataset/1/train\\\\yes\\\\013527-20210218@103200-R1-S.jpg', 1), ('./dataset/1/train\\\\yes\\\\013528-20210218@103809-L4-S.jpg', 1), ('./dataset/1/train\\\\yes\\\\013528-20210218@103809-L6-S.jpg', 1), ('./dataset/1/train\\\\yes\\\\013528-20210218@103809-R1-S.jpg', 1), ('./dataset/1/train\\\\yes\\\\013528-20210218@103809-R3-S.jpg', 1), ('./dataset/1/train\\\\yes\\\\013528-20210218@103809-R5-S.jpg', 1), ('./dataset/1/train\\\\yes\\\\013529-20210218@104148-L2-S.jpg', 1), ('./dataset/1/train\\\\yes\\\\013530-20210218@104714-L3-S.jpg', 1), ('./dataset/1/train\\\\yes\\\\013530-20210218@104714-L4-S.jpg', 1), ('./dataset/1/train\\\\yes\\\\013539-20210218@124126-L2-S.jpg', 1), ('./dataset/1/train\\\\yes\\\\013539-20210218@124126-R1-S.jpg', 1), ('./dataset/1/train\\\\yes\\\\013546-20210218@143330-R1-S.jpg', 1), ('./dataset/1/train\\\\yes\\\\013550-20210218@154918-L4-S.jpg', 1), ('./dataset/1/train\\\\yes\\\\013550-20210218@154918-R1-S.jpg', 1), ('./dataset/1/train\\\\yes\\\\013550-20210218@154918-R3-S.jpg', 1), ('./dataset/1/train\\\\yes\\\\013551-20210218@155151-L4-S.jpg', 1), ('./dataset/1/train\\\\yes\\\\013553-20210218@162610-R1-S.jpg', 1), ('./dataset/1/train\\\\yes\\\\013554-20210218@163212-L2-S.jpg', 1), ('./dataset/1/train\\\\yes\\\\013554-20210218@163212-R4-S.jpg', 1), ('./dataset/1/train\\\\yes\\\\013555-20210218@165620-L2-S.jpg', 1), ('./dataset/1/train\\\\yes\\\\013555-20210218@165620-R1-S.jpg', 1), ('./dataset/1/train\\\\yes\\\\013556-20210218@170431-L2-S.jpg', 1), ('./dataset/1/train\\\\yes\\\\013562-20210219@104316-L3-S.jpg', 1), ('./dataset/1/train\\\\yes\\\\013566-20210219@120016-L2-S.jpg', 1), ('./dataset/1/train\\\\yes\\\\013566-20210219@120016-L8-S.jpg', 1), ('./dataset/1/train\\\\yes\\\\013566-20210219@120016-L9-S.jpg', 1), ('./dataset/1/train\\\\yes\\\\013566-20210219@120016-R1-S.jpg', 1), ('./dataset/1/train\\\\yes\\\\013566-20210219@120016-R3-S.jpg', 1), ('./dataset/1/train\\\\yes\\\\013566-20210219@120016-R4-S.jpg', 1), ('./dataset/1/train\\\\yes\\\\013567-20210219@122811-L2-S.jpg', 1), ('./dataset/1/train\\\\yes\\\\013567-20210219@122811-R1-S.jpg', 1), ('./dataset/1/train\\\\yes\\\\013570-20210219@130026-R1-S.jpg', 1), ('./dataset/1/train\\\\yes\\\\013571-20210219@130354-L2-S.jpg', 1), ('./dataset/1/train\\\\yes\\\\013571-20210219@130354-R1-S.jpg', 1), ('./dataset/1/train\\\\yes\\\\013577-20210219@140526-L2-S.jpg', 1), ('./dataset/1/train\\\\yes\\\\013577-20210219@140526-R1-S.jpg', 1), ('./dataset/1/train\\\\yes\\\\013579-20210219@141308-L3-S.jpg', 1), ('./dataset/1/train\\\\yes\\\\013579-20210219@141308-R5-S.jpg', 1), ('./dataset/1/train\\\\yes\\\\013581-20210219@150201-L2-S.jpg', 1), ('./dataset/1/train\\\\yes\\\\013581-20210219@150201-R1-S.jpg', 1), ('./dataset/1/train\\\\yes\\\\013585-20210219@161608-R1-S.jpg', 1), ('./dataset/1/train\\\\yes\\\\013589-20210220@091501-L4-S.jpg', 1), ('./dataset/1/train\\\\yes\\\\013589-20210220@091501-L6-S.jpg', 1), ('./dataset/1/train\\\\yes\\\\013589-20210220@091501-R1-S.jpg', 1), ('./dataset/1/train\\\\yes\\\\013589-20210220@091501-R2-S.jpg', 1), ('./dataset/1/train\\\\yes\\\\013596-20210220@104449-L4-S.jpg', 1), ('./dataset/1/train\\\\yes\\\\013596-20210220@104449-R3-S.jpg', 1), ('./dataset/1/train\\\\yes\\\\013597-20210220@105312-R2-S.jpg', 1), ('./dataset/1/train\\\\yes\\\\013601-20210220@110708-R1-S.jpg', 1), ('./dataset/1/train\\\\yes\\\\013602-20210220@111912-L3-S.jpg', 1), ('./dataset/1/train\\\\yes\\\\013602-20210220@111912-R1-S.jpg', 1), ('./dataset/1/train\\\\yes\\\\013602-20210220@111912-R2-S.jpg', 1), ('./dataset/1/train\\\\yes\\\\013603-20210220@113445-L2-S.jpg', 1), ('./dataset/1/train\\\\yes\\\\013603-20210220@113445-R1-S.jpg', 1), ('./dataset/1/train\\\\yes\\\\013606-20210220@123614-R1-S.jpg', 1), ('./dataset/1/train\\\\yes\\\\013606-20210220@123614-R2-S.jpg', 1), ('./dataset/1/train\\\\yes\\\\013607-20210220@124059-R1-S.jpg', 1), ('./dataset/1/train\\\\yes\\\\013610-20210220@125606-L3-S.jpg', 1), ('./dataset/1/train\\\\yes\\\\013610-20210220@125606-L4-S.jpg', 1), ('./dataset/1/train\\\\yes\\\\013610-20210220@125606-R1-S.jpg', 1), ('./dataset/1/train\\\\yes\\\\013615-20210220@131720-L2-S.jpg', 1), ('./dataset/1/train\\\\yes\\\\013615-20210220@131720-R1-S.jpg', 1), ('./dataset/1/train\\\\yes\\\\013616-20210220@132045-L10-S.jpg', 1), ('./dataset/1/train\\\\yes\\\\013616-20210220@132045-L6-S.jpg', 1), ('./dataset/1/train\\\\yes\\\\013616-20210220@132045-L7-S.jpg', 1), ('./dataset/1/train\\\\yes\\\\013616-20210220@132045-L9-S.jpg', 1), ('./dataset/1/train\\\\yes\\\\013616-20210220@132045-R1-S.jpg', 1), ('./dataset/1/train\\\\yes\\\\013616-20210220@132045-R2-S.jpg', 1), ('./dataset/1/train\\\\yes\\\\013616-20210220@132045-R4-S.jpg', 1), ('./dataset/1/train\\\\yes\\\\013617-20210220@133118-L2-S.jpg', 1), ('./dataset/1/train\\\\yes\\\\013621-20210220@140009-R1-S.jpg', 1), ('./dataset/1/train\\\\yes\\\\013624-20210220@142644-L3-S.jpg', 1), ('./dataset/1/train\\\\yes\\\\013624-20210220@142644-R1-S.jpg', 1), ('./dataset/1/train\\\\yes\\\\013624-20210220@142644-R2-S.jpg', 1), ('./dataset/1/train\\\\yes\\\\013625-20210220@143124-R3-S.jpg', 1), ('./dataset/1/train\\\\yes\\\\013625-20210220@143124-R7-S.jpg', 1), ('./dataset/1/train\\\\yes\\\\013628-20210220@152157-R1-S.jpg', 1), ('./dataset/1/train\\\\yes\\\\013629-20210220@155642-L2-S.jpg', 1), ('./dataset/1/train\\\\yes\\\\013630-20210220@155923-R1-S.jpg', 1), ('./dataset/1/train\\\\yes\\\\013631-20210220@160231-L4-S.jpg', 1), ('./dataset/1/train\\\\yes\\\\013631-20210220@160231-L5-S.jpg', 1), ('./dataset/1/train\\\\yes\\\\013631-20210220@160231-L6-S.jpg', 1), ('./dataset/1/train\\\\yes\\\\013631-20210220@160231-R1-S.jpg', 1), ('./dataset/1/train\\\\yes\\\\013631-20210220@160231-R2-S.jpg', 1), ('./dataset/1/train\\\\yes\\\\013632-20210220@161138-L3-S.jpg', 1), ('./dataset/1/train\\\\yes\\\\013633-20210220@162326-L4-S.jpg', 1), ('./dataset/1/train\\\\yes\\\\013904-20210227@135237-R1-S.jpg', 1), ('./dataset/1/train\\\\yes\\\\013904-20210227@135237-R2-S.jpg', 1), ('./dataset/1/train\\\\yes\\\\013904-20210227@135237-R4-S.jpg', 1), ('./dataset/1/train\\\\yes\\\\013905-20210227@140517-L2-S.jpg', 1), ('./dataset/1/train\\\\yes\\\\013905-20210227@140517-R1-S.jpg', 1), ('./dataset/1/train\\\\yes\\\\013910-20210227@143541-L2-S.jpg', 1), ('./dataset/1/train\\\\yes\\\\013910-20210227@143541-R1-S.jpg', 1), ('./dataset/1/train\\\\yes\\\\013911-20210227@144147-L2-S.jpg', 1), ('./dataset/1/train\\\\yes\\\\013915-20210227@152822-R1-S.jpg', 1), ('./dataset/1/train\\\\yes\\\\013916-20210227@153925-L3-S.jpg', 1), ('./dataset/1/train\\\\yes\\\\013916-20210227@153925-R1-S.jpg', 1), ('./dataset/1/train\\\\yes\\\\013920-20210227@163320-L2-S.jpg', 1), ('./dataset/1/train\\\\yes\\\\013922-20210227@173416-R1-S.jpg', 1), ('./dataset/1/train\\\\yes\\\\013926-20210228@090429-R1-S.jpg', 1), ('./dataset/1/train\\\\yes\\\\013927-20210228@093833-R1-S.jpg', 1), ('./dataset/1/train\\\\yes\\\\013927-20210228@093833-R2-S.jpg', 1), ('./dataset/1/train\\\\yes\\\\013928-20210228@095252-L6-S.jpg', 1), ('./dataset/1/train\\\\yes\\\\013928-20210228@095252-L7-S.jpg', 1), ('./dataset/1/train\\\\yes\\\\013928-20210228@095252-L8-S.jpg', 1), ('./dataset/1/train\\\\yes\\\\013928-20210228@095252-R10-S.jpg', 1)]\n",
      "{'no': 0, 'yes': 1}\n",
      "{'no': 0, 'yes': 1}\n"
     ]
    }
   ],
   "source": [
    "# Read Data\n",
    "dataset_train = datasets.ImageFolder('./dataset/classification/train', transform)\n",
    "print(dataset_train.imgs)\n",
    "# Read the label\n",
    "print(dataset_train.class_to_idx)\n",
    "dataset_test = datasets.ImageFolder('./dataset/classification/val', transform_test)\n",
    "# Read the label\n",
    "print(dataset_test.class_to_idx)"
   ]
  },
  {
   "cell_type": "code",
   "execution_count": 5,
   "metadata": {},
   "outputs": [],
   "source": [
    "# Load the data using DataLoader\n",
    "train_loader = torch.utils.data.DataLoader(dataset_train, batch_size=BATCH_SIZE, shuffle=True, drop_last=True, num_workers = 1)\n",
    "test_loader = torch.utils.data.DataLoader(dataset_test, batch_size=BATCH_SIZE, shuffle=False, drop_last=True, num_workers = 1)\n",
    "modellr = 1e-4"
   ]
  },
  {
   "cell_type": "code",
   "execution_count": null,
   "metadata": {},
   "outputs": [],
   "source": [
    "# Resnet18\n",
    "\n",
    "# Instantiate the model\n",
    "criterion = nn.CrossEntropyLoss() # Loss function\n",
    "\n",
    "model = torchvision.models.resnet18(pretrained=True) # Use ResNet18\n",
    "num_ftrs = model.fc.in_features\n",
    "model.fc = nn.Linear(num_ftrs, 2)\n",
    "model.to(DEVICE)\n",
    "# Using the most powerful optimizer - Adam\n",
    "optimizer = optim.Adam(model.parameters(), lr=modellr)"
   ]
  },
  {
   "cell_type": "code",
   "execution_count": null,
   "metadata": {},
   "outputs": [],
   "source": [
    "# Resnet50\n",
    "\n",
    "# Instantiate the model\n",
    "criterion = nn.CrossEntropyLoss()\n",
    "\n",
    "model = torchvision.models.resnet50(pretrained=True)\n",
    "num_ftrs = model.fc.in_features\n",
    "model.fc = nn.Linear(num_ftrs, 2)\n",
    "model.to(DEVICE)\n",
    "# Optimizer Adam\n",
    "optimizer = optim.Adam(model.parameters(), lr=modellr)"
   ]
  },
  {
   "cell_type": "code",
   "execution_count": null,
   "metadata": {},
   "outputs": [],
   "source": [
    "# Resnet101\n",
    "\n",
    "# Instantiate the model\n",
    "criterion = nn.CrossEntropyLoss()\n",
    "\n",
    "model = torchvision.models.resnet101(pretrained=True)\n",
    "num_ftrs = model.fc.in_features\n",
    "model.fc = nn.Linear(num_ftrs, 2)\n",
    "model.to(DEVICE)\n",
    "# Optimizer Adam\n",
    "optimizer = optim.Adam(model.parameters(), lr=modellr)"
   ]
  },
  {
   "cell_type": "code",
   "execution_count": null,
   "metadata": {},
   "outputs": [],
   "source": [
    "# CustomCNNReLU Finished\n",
    "\n",
    "# Instantiate the model\n",
    "criterion = nn.CrossEntropyLoss()\n",
    "\n",
    "model = CustomCNNReLU() # Inside net\n",
    "\n",
    "model.to(DEVICE)\n",
    "# Optimizer Adam\n",
    "optimizer = optim.Adam(model.parameters(), lr=modellr)\n",
    "\n",
    "'''\n",
    "Result of ReLU\n",
    "Learning rate: 1e-3\n",
    "Total Epochs: 30\n",
    "Accuracy: 85% at most\n",
    "\n",
    "Summary: \n",
    "ReLU is one of the best activation functions in deep learning with delighted results using low learning rate and small epochs amount\n",
    "'''"
   ]
  },
  {
   "cell_type": "code",
   "execution_count": 7,
   "metadata": {},
   "outputs": [
    {
     "data": {
      "text/plain": [
       "'\\nResult of Sigmoid (Test 01)\\nLearning rate: 1e-3\\nTotal Epochs: 30\\nAccuracy: 36%\\n\\nSummary:\\nSigmoid is one of the earliest used activation functions in deep learning as well as one of the worst one.\\nSigmoid can not separate the data effectively causing the bad result\\n'"
      ]
     },
     "execution_count": 7,
     "metadata": {},
     "output_type": "execute_result"
    }
   ],
   "source": [
    "# CustomCNNSigmoid\n",
    "\n",
    "# Instantiate the model\n",
    "criterion = nn.CrossEntropyLoss()\n",
    "\n",
    "model = CustomCNNSigmoid()\n",
    "\n",
    "model.to(DEVICE)\n",
    "# Optimizer Adam\n",
    "optimizer = optim.Adam(model.parameters(), lr=modellr)\n",
    "\n",
    "EPOCHS = 100\n",
    "modelllr = 0.1\n",
    "# Due the speciality of sigmoid (No very easy to spread backward)\n",
    "# The total epochs should be way higher and the learning rate should be higher than the ReLU\n",
    "\n",
    "'''\n",
    "Result of Sigmoid (Test 01)\n",
    "Learning rate: 1e-3\n",
    "Total Epochs: 30\n",
    "Accuracy: 36%\n",
    "\n",
    "Summary:\n",
    "Sigmoid is one of the earliest used activation functions in deep learning as well as one of the worst one.\n",
    "Sigmoid can not separate the data effectively causing the bad result\n",
    "'''"
   ]
  },
  {
   "cell_type": "code",
   "execution_count": 7,
   "metadata": {},
   "outputs": [],
   "source": [
    "df_train = pd.DataFrame(columns = ['epoch', 'train_loss', 'val_loss', 'accuracy'])\n",
    "\n",
    "def adjust_learning_rate(optimizer, epoch):\n",
    "    \"\"\"Sets the learning rate to the initial LR decayed by 10 every 20 epochs\"\"\"\n",
    "    modellrnew = modellr * (0.1 ** (epoch // 20))\n",
    "    # print(\"lr:\", modellrnew)\n",
    "    for param_group in optimizer.param_groups:\n",
    "        param_group['lr'] = modellrnew\n",
    "\n",
    "\n",
    "# Train method\n",
    "\n",
    "def train(model, device, train_loader, optimizer, epoch):\n",
    "    model.train()\n",
    "    sum_loss = 0\n",
    "    total_num = len(train_loader.dataset)\n",
    "\n",
    "    loop = tqdm(enumerate(train_loader), total = len(train_loader)) # Showing progress bar with tqdm\n",
    "    for batch_idx, (data, target) in loop:\n",
    "        data, target = Variable(data).to(device), Variable(target).to(device)\n",
    "        output = model(data)\n",
    "\n",
    "        loss = criterion(output, target)\n",
    "        optimizer.zero_grad()\n",
    "        loss.backward()\n",
    "        optimizer.step()\n",
    "        print_loss = loss.data.item()\n",
    "        sum_loss += print_loss\n",
    "        loop.set_description(f'Epoch [{epoch}/{EPOCHS}]')\n",
    "        loop.set_postfix_str('loss = {:6f}'.format(loss.item()))\n",
    "    ave_loss = sum_loss / len(train_loader)\n",
    "    \n",
    "    torch.save(model, './checkpoints/model_{}.pth'.format(epoch)) # Save every epoch\n",
    "    return ave_loss \n",
    "\n",
    "# Validate the model every epoch\n",
    "def val(model, device, test_loader):\n",
    "    model.eval()\n",
    "    test_loss = 0\n",
    "    correct = 0\n",
    "    total_num = len(test_loader.dataset)\n",
    "    \n",
    "    with torch.no_grad():\n",
    "        for data, target in test_loader:\n",
    "            data, target = Variable(data).to(device), Variable(target).to(device)\n",
    "            output = model(data)\n",
    "            loss = criterion(output, target)\n",
    "            _, pred = torch.max(output.data, 1)\n",
    "            correct += torch.sum(pred == target)\n",
    "            print_loss = loss.data.item()\n",
    "            test_loss += print_loss\n",
    "        correct = correct.data.item()\n",
    "        acc = correct / total_num\n",
    "        avgloss = test_loss / len(test_loader)\n",
    "        print('Val set: Average loss: {:.4f}, Accuracy: {}/{} ({:.0f}%)\\n'.format(\n",
    "            avgloss, correct, len(test_loader.dataset), 100 * acc))\n",
    "        return acc, avgloss"
   ]
  },
  {
   "cell_type": "code",
   "execution_count": 8,
   "metadata": {},
   "outputs": [
    {
     "name": "stderr",
     "output_type": "stream",
     "text": [
      "Epoch [1/30]: 100%|██████████| 12/12 [00:48<00:00,  4.05s/it, loss = 0.299207]\n"
     ]
    },
    {
     "name": "stdout",
     "output_type": "stream",
     "text": [
      "Val set: Average loss: 0.6217, Accuracy: 211/333 (63%)\n",
      "\n"
     ]
    },
    {
     "name": "stderr",
     "output_type": "stream",
     "text": [
      "Epoch [2/30]: 100%|██████████| 12/12 [00:26<00:00,  2.21s/it, loss = 0.149505]\n"
     ]
    },
    {
     "name": "stdout",
     "output_type": "stream",
     "text": [
      "Val set: Average loss: 0.3930, Accuracy: 268/333 (80%)\n",
      "\n"
     ]
    },
    {
     "name": "stderr",
     "output_type": "stream",
     "text": [
      "Epoch [3/30]: 100%|██████████| 12/12 [00:26<00:00,  2.18s/it, loss = 0.024050]\n"
     ]
    },
    {
     "name": "stdout",
     "output_type": "stream",
     "text": [
      "Val set: Average loss: 0.4107, Accuracy: 271/333 (81%)\n",
      "\n"
     ]
    },
    {
     "name": "stderr",
     "output_type": "stream",
     "text": [
      "Epoch [4/30]: 100%|██████████| 12/12 [00:28<00:00,  2.36s/it, loss = 0.020352]\n"
     ]
    },
    {
     "name": "stdout",
     "output_type": "stream",
     "text": [
      "Val set: Average loss: 0.2919, Accuracy: 289/333 (87%)\n",
      "\n"
     ]
    },
    {
     "name": "stderr",
     "output_type": "stream",
     "text": [
      "Epoch [5/30]: 100%|██████████| 12/12 [00:32<00:00,  2.69s/it, loss = 0.021763]\n"
     ]
    },
    {
     "name": "stdout",
     "output_type": "stream",
     "text": [
      "Val set: Average loss: 0.3226, Accuracy: 281/333 (84%)\n",
      "\n"
     ]
    },
    {
     "name": "stderr",
     "output_type": "stream",
     "text": [
      "Epoch [6/30]: 100%|██████████| 12/12 [00:38<00:00,  3.25s/it, loss = 0.011095]\n"
     ]
    },
    {
     "name": "stdout",
     "output_type": "stream",
     "text": [
      "Val set: Average loss: 0.2935, Accuracy: 280/333 (84%)\n",
      "\n"
     ]
    },
    {
     "name": "stderr",
     "output_type": "stream",
     "text": [
      "Epoch [7/30]: 100%|██████████| 12/12 [00:38<00:00,  3.18s/it, loss = 0.073306]\n"
     ]
    },
    {
     "name": "stdout",
     "output_type": "stream",
     "text": [
      "Val set: Average loss: 0.2918, Accuracy: 285/333 (86%)\n",
      "\n"
     ]
    },
    {
     "name": "stderr",
     "output_type": "stream",
     "text": [
      "Epoch [8/30]: 100%|██████████| 12/12 [00:35<00:00,  2.97s/it, loss = 0.009371]\n"
     ]
    },
    {
     "name": "stdout",
     "output_type": "stream",
     "text": [
      "Val set: Average loss: 0.2391, Accuracy: 295/333 (89%)\n",
      "\n"
     ]
    },
    {
     "name": "stderr",
     "output_type": "stream",
     "text": [
      "Epoch [9/30]: 100%|██████████| 12/12 [00:36<00:00,  3.06s/it, loss = 0.010610]\n"
     ]
    },
    {
     "name": "stdout",
     "output_type": "stream",
     "text": [
      "Val set: Average loss: 0.4799, Accuracy: 269/333 (81%)\n",
      "\n"
     ]
    },
    {
     "name": "stderr",
     "output_type": "stream",
     "text": [
      "Epoch [10/30]: 100%|██████████| 12/12 [00:33<00:00,  2.78s/it, loss = 0.004502]\n"
     ]
    },
    {
     "name": "stdout",
     "output_type": "stream",
     "text": [
      "Val set: Average loss: 0.2843, Accuracy: 296/333 (89%)\n",
      "\n"
     ]
    },
    {
     "name": "stderr",
     "output_type": "stream",
     "text": [
      "Epoch [11/30]: 100%|██████████| 12/12 [00:36<00:00,  3.05s/it, loss = 0.074468]\n"
     ]
    },
    {
     "name": "stdout",
     "output_type": "stream",
     "text": [
      "Val set: Average loss: 0.3885, Accuracy: 284/333 (85%)\n",
      "\n"
     ]
    },
    {
     "name": "stderr",
     "output_type": "stream",
     "text": [
      "Epoch [12/30]: 100%|██████████| 12/12 [00:38<00:00,  3.22s/it, loss = 0.004625]\n"
     ]
    },
    {
     "name": "stdout",
     "output_type": "stream",
     "text": [
      "Val set: Average loss: 0.5014, Accuracy: 275/333 (83%)\n",
      "\n"
     ]
    },
    {
     "name": "stderr",
     "output_type": "stream",
     "text": [
      "Epoch [13/30]: 100%|██████████| 12/12 [00:38<00:00,  3.19s/it, loss = 0.002010]\n"
     ]
    },
    {
     "name": "stdout",
     "output_type": "stream",
     "text": [
      "Val set: Average loss: 0.7155, Accuracy: 255/333 (77%)\n",
      "\n"
     ]
    },
    {
     "name": "stderr",
     "output_type": "stream",
     "text": [
      "Epoch [14/30]: 100%|██████████| 12/12 [00:37<00:00,  3.13s/it, loss = 0.010386]\n"
     ]
    },
    {
     "name": "stdout",
     "output_type": "stream",
     "text": [
      "Val set: Average loss: 0.3093, Accuracy: 288/333 (86%)\n",
      "\n"
     ]
    },
    {
     "name": "stderr",
     "output_type": "stream",
     "text": [
      "Epoch [15/30]: 100%|██████████| 12/12 [00:36<00:00,  3.04s/it, loss = 0.002201]\n"
     ]
    },
    {
     "name": "stdout",
     "output_type": "stream",
     "text": [
      "Val set: Average loss: 0.3938, Accuracy: 274/333 (82%)\n",
      "\n"
     ]
    },
    {
     "name": "stderr",
     "output_type": "stream",
     "text": [
      "Epoch [16/30]: 100%|██████████| 12/12 [00:35<00:00,  2.98s/it, loss = 0.005036]\n"
     ]
    },
    {
     "name": "stdout",
     "output_type": "stream",
     "text": [
      "Val set: Average loss: 0.2231, Accuracy: 296/333 (89%)\n",
      "\n"
     ]
    },
    {
     "name": "stderr",
     "output_type": "stream",
     "text": [
      "Epoch [17/30]: 100%|██████████| 12/12 [00:36<00:00,  3.08s/it, loss = 0.000198]\n"
     ]
    },
    {
     "name": "stdout",
     "output_type": "stream",
     "text": [
      "Val set: Average loss: 0.3751, Accuracy: 285/333 (86%)\n",
      "\n"
     ]
    },
    {
     "name": "stderr",
     "output_type": "stream",
     "text": [
      "Epoch [18/30]: 100%|██████████| 12/12 [00:37<00:00,  3.11s/it, loss = 0.000224]\n"
     ]
    },
    {
     "name": "stdout",
     "output_type": "stream",
     "text": [
      "Val set: Average loss: 0.4709, Accuracy: 285/333 (86%)\n",
      "\n"
     ]
    },
    {
     "name": "stderr",
     "output_type": "stream",
     "text": [
      "Epoch [19/30]: 100%|██████████| 12/12 [00:37<00:00,  3.10s/it, loss = 0.159058]\n"
     ]
    },
    {
     "name": "stdout",
     "output_type": "stream",
     "text": [
      "Val set: Average loss: 0.5107, Accuracy: 277/333 (83%)\n",
      "\n"
     ]
    },
    {
     "name": "stderr",
     "output_type": "stream",
     "text": [
      "Epoch [20/30]: 100%|██████████| 12/12 [00:36<00:00,  3.03s/it, loss = 0.024900]\n"
     ]
    },
    {
     "name": "stdout",
     "output_type": "stream",
     "text": [
      "Val set: Average loss: 0.4423, Accuracy: 280/333 (84%)\n",
      "\n"
     ]
    },
    {
     "name": "stderr",
     "output_type": "stream",
     "text": [
      "Epoch [21/30]: 100%|██████████| 12/12 [00:37<00:00,  3.12s/it, loss = 0.002709]\n"
     ]
    },
    {
     "name": "stdout",
     "output_type": "stream",
     "text": [
      "Val set: Average loss: 0.3884, Accuracy: 286/333 (86%)\n",
      "\n"
     ]
    },
    {
     "name": "stderr",
     "output_type": "stream",
     "text": [
      "Epoch [22/30]: 100%|██████████| 12/12 [00:35<00:00,  2.97s/it, loss = 0.000469]\n"
     ]
    },
    {
     "name": "stdout",
     "output_type": "stream",
     "text": [
      "Val set: Average loss: 0.3859, Accuracy: 285/333 (86%)\n",
      "\n"
     ]
    },
    {
     "name": "stderr",
     "output_type": "stream",
     "text": [
      "Epoch [23/30]: 100%|██████████| 12/12 [00:36<00:00,  3.05s/it, loss = 0.000467]\n"
     ]
    },
    {
     "name": "stdout",
     "output_type": "stream",
     "text": [
      "Val set: Average loss: 0.3820, Accuracy: 287/333 (86%)\n",
      "\n"
     ]
    },
    {
     "name": "stderr",
     "output_type": "stream",
     "text": [
      "Epoch [24/30]: 100%|██████████| 12/12 [00:36<00:00,  3.08s/it, loss = 0.000392]\n"
     ]
    },
    {
     "name": "stdout",
     "output_type": "stream",
     "text": [
      "Val set: Average loss: 0.3663, Accuracy: 290/333 (87%)\n",
      "\n"
     ]
    },
    {
     "name": "stderr",
     "output_type": "stream",
     "text": [
      "Epoch [25/30]: 100%|██████████| 12/12 [00:24<00:00,  2.07s/it, loss = 0.000441]\n"
     ]
    },
    {
     "name": "stdout",
     "output_type": "stream",
     "text": [
      "Val set: Average loss: 0.3289, Accuracy: 290/333 (87%)\n",
      "\n"
     ]
    },
    {
     "name": "stderr",
     "output_type": "stream",
     "text": [
      "Epoch [26/30]: 100%|██████████| 12/12 [00:31<00:00,  2.66s/it, loss = 0.002879]\n"
     ]
    },
    {
     "name": "stdout",
     "output_type": "stream",
     "text": [
      "Val set: Average loss: 0.3682, Accuracy: 287/333 (86%)\n",
      "\n"
     ]
    },
    {
     "name": "stderr",
     "output_type": "stream",
     "text": [
      "Epoch [27/30]: 100%|██████████| 12/12 [00:38<00:00,  3.21s/it, loss = 0.002312]\n"
     ]
    },
    {
     "name": "stdout",
     "output_type": "stream",
     "text": [
      "Val set: Average loss: 0.3570, Accuracy: 289/333 (87%)\n",
      "\n"
     ]
    },
    {
     "name": "stderr",
     "output_type": "stream",
     "text": [
      "Epoch [28/30]: 100%|██████████| 12/12 [00:38<00:00,  3.18s/it, loss = 0.000251]\n"
     ]
    },
    {
     "name": "stdout",
     "output_type": "stream",
     "text": [
      "Val set: Average loss: 0.3793, Accuracy: 287/333 (86%)\n",
      "\n"
     ]
    },
    {
     "name": "stderr",
     "output_type": "stream",
     "text": [
      "Epoch [29/30]: 100%|██████████| 12/12 [00:35<00:00,  2.98s/it, loss = 0.000469]\n"
     ]
    },
    {
     "name": "stdout",
     "output_type": "stream",
     "text": [
      "Val set: Average loss: 0.3820, Accuracy: 288/333 (86%)\n",
      "\n"
     ]
    },
    {
     "name": "stderr",
     "output_type": "stream",
     "text": [
      "Epoch [30/30]: 100%|██████████| 12/12 [00:38<00:00,  3.17s/it, loss = 0.000518]\n"
     ]
    },
    {
     "name": "stdout",
     "output_type": "stream",
     "text": [
      "Val set: Average loss: 0.3763, Accuracy: 288/333 (86%)\n",
      "\n"
     ]
    }
   ],
   "source": [
    "# Train\n",
    "for epoch in range(1, EPOCHS + 1):\n",
    "    adjust_learning_rate(optimizer, epoch)\n",
    "    loss = train(model, DEVICE, train_loader, optimizer, epoch)\n",
    "    acc, aveloss = val(model, DEVICE, test_loader)\n",
    "    df_train.loc[len(df_train.index)] = [epoch, loss, aveloss, acc] # Save the traning and validation data every epoch to a csv\n",
    "torch.save(model, 'model.pth') # Save the model\n",
    "df_train.to_csv('loss.csv')"
   ]
  },
  {
   "cell_type": "code",
   "execution_count": null,
   "metadata": {},
   "outputs": [],
   "source": [
    "import pandas as pd\n",
    "%matplotlib inline\n",
    "\n",
    "# Show the traning result with matplotlib\n",
    "df = pd.read_csv('./loss.csv')\n",
    "\n",
    "df[['train_loss', 'val_loss', 'accuracy']].plot()"
   ]
  }
 ],
 "metadata": {
  "kernelspec": {
   "display_name": "env",
   "language": "python",
   "name": "python3"
  },
  "language_info": {
   "codemirror_mode": {
    "name": "ipython",
    "version": 3
   },
   "file_extension": ".py",
   "mimetype": "text/x-python",
   "name": "python",
   "nbconvert_exporter": "python",
   "pygments_lexer": "ipython3",
   "version": "3.10.10"
  },
  "orig_nbformat": 4
 },
 "nbformat": 4,
 "nbformat_minor": 2
}
